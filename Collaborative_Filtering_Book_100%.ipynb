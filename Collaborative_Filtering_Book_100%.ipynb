{
  "cells": [
    {
      "cell_type": "code",
      "execution_count": 2,
      "id": "4414f6bd",
      "metadata": {
        "id": "4414f6bd"
      },
      "outputs": [],
      "source": [
        "import numpy as np\n",
        "import pandas as pd"
      ]
    },
    {
      "cell_type": "code",
      "execution_count": 3,
      "id": "yzOX6nA_M0_V",
      "metadata": {
        "id": "yzOX6nA_M0_V"
      },
      "outputs": [
        {
          "name": "stderr",
          "output_type": "stream",
          "text": [
            "C:\\Users\\chris\\AppData\\Local\\Temp\\ipykernel_25700\\1748781244.py:1: DtypeWarning: Columns (3) have mixed types. Specify dtype option on import or set low_memory=False.\n",
            "  books = pd.read_csv('Books.csv')\n"
          ]
        }
      ],
      "source": [
        "books = pd.read_csv('Books.csv')\n",
        "users = pd.read_csv('Users.csv')\n",
        "ratings = pd.read_csv('Ratings.csv')"
      ]
    },
    {
      "cell_type": "code",
      "execution_count": 4,
      "id": "c8afc553",
      "metadata": {
        "colab": {
          "base_uri": "https://localhost:8080/",
          "height": 35
        },
        "id": "c8afc553",
        "outputId": "c9051145-40a6-4981-e3b4-eeb397e9cbe8"
      },
      "outputs": [
        {
          "data": {
            "text/plain": [
              "'http://images.amazon.com/images/P/0002005018.01.MZZZZZZZ.jpg'"
            ]
          },
          "execution_count": 4,
          "metadata": {},
          "output_type": "execute_result"
        }
      ],
      "source": [
        "books['Image-URL-M'][1]"
      ]
    },
    {
      "cell_type": "code",
      "execution_count": 5,
      "id": "5fd4dc69",
      "metadata": {
        "colab": {
          "base_uri": "https://localhost:8080/",
          "height": 206
        },
        "id": "5fd4dc69",
        "outputId": "852175bf-0407-480c-eaa2-af10cc3329bc"
      },
      "outputs": [
        {
          "data": {
            "text/html": [
              "<div>\n",
              "<style scoped>\n",
              "    .dataframe tbody tr th:only-of-type {\n",
              "        vertical-align: middle;\n",
              "    }\n",
              "\n",
              "    .dataframe tbody tr th {\n",
              "        vertical-align: top;\n",
              "    }\n",
              "\n",
              "    .dataframe thead th {\n",
              "        text-align: right;\n",
              "    }\n",
              "</style>\n",
              "<table border=\"1\" class=\"dataframe\">\n",
              "  <thead>\n",
              "    <tr style=\"text-align: right;\">\n",
              "      <th></th>\n",
              "      <th>User-ID</th>\n",
              "      <th>Location</th>\n",
              "      <th>Age</th>\n",
              "    </tr>\n",
              "  </thead>\n",
              "  <tbody>\n",
              "    <tr>\n",
              "      <th>0</th>\n",
              "      <td>1</td>\n",
              "      <td>nyc, new york, usa</td>\n",
              "      <td>NaN</td>\n",
              "    </tr>\n",
              "    <tr>\n",
              "      <th>1</th>\n",
              "      <td>2</td>\n",
              "      <td>stockton, california, usa</td>\n",
              "      <td>18.0</td>\n",
              "    </tr>\n",
              "    <tr>\n",
              "      <th>2</th>\n",
              "      <td>3</td>\n",
              "      <td>moscow, yukon territory, russia</td>\n",
              "      <td>NaN</td>\n",
              "    </tr>\n",
              "    <tr>\n",
              "      <th>3</th>\n",
              "      <td>4</td>\n",
              "      <td>porto, v.n.gaia, portugal</td>\n",
              "      <td>17.0</td>\n",
              "    </tr>\n",
              "    <tr>\n",
              "      <th>4</th>\n",
              "      <td>5</td>\n",
              "      <td>farnborough, hants, united kingdom</td>\n",
              "      <td>NaN</td>\n",
              "    </tr>\n",
              "  </tbody>\n",
              "</table>\n",
              "</div>"
            ],
            "text/plain": [
              "   User-ID                            Location   Age\n",
              "0        1                  nyc, new york, usa   NaN\n",
              "1        2           stockton, california, usa  18.0\n",
              "2        3     moscow, yukon territory, russia   NaN\n",
              "3        4           porto, v.n.gaia, portugal  17.0\n",
              "4        5  farnborough, hants, united kingdom   NaN"
            ]
          },
          "execution_count": 5,
          "metadata": {},
          "output_type": "execute_result"
        }
      ],
      "source": [
        "users.head()"
      ]
    },
    {
      "cell_type": "code",
      "execution_count": 6,
      "id": "690238f5",
      "metadata": {
        "colab": {
          "base_uri": "https://localhost:8080/",
          "height": 206
        },
        "id": "690238f5",
        "outputId": "35011c90-0ae4-40d2-94b0-4f444dc343aa"
      },
      "outputs": [
        {
          "data": {
            "text/html": [
              "<div>\n",
              "<style scoped>\n",
              "    .dataframe tbody tr th:only-of-type {\n",
              "        vertical-align: middle;\n",
              "    }\n",
              "\n",
              "    .dataframe tbody tr th {\n",
              "        vertical-align: top;\n",
              "    }\n",
              "\n",
              "    .dataframe thead th {\n",
              "        text-align: right;\n",
              "    }\n",
              "</style>\n",
              "<table border=\"1\" class=\"dataframe\">\n",
              "  <thead>\n",
              "    <tr style=\"text-align: right;\">\n",
              "      <th></th>\n",
              "      <th>User-ID</th>\n",
              "      <th>ISBN</th>\n",
              "      <th>Book-Rating</th>\n",
              "    </tr>\n",
              "  </thead>\n",
              "  <tbody>\n",
              "    <tr>\n",
              "      <th>0</th>\n",
              "      <td>276725</td>\n",
              "      <td>034545104X</td>\n",
              "      <td>0</td>\n",
              "    </tr>\n",
              "    <tr>\n",
              "      <th>1</th>\n",
              "      <td>276726</td>\n",
              "      <td>0155061224</td>\n",
              "      <td>5</td>\n",
              "    </tr>\n",
              "    <tr>\n",
              "      <th>2</th>\n",
              "      <td>276727</td>\n",
              "      <td>0446520802</td>\n",
              "      <td>0</td>\n",
              "    </tr>\n",
              "    <tr>\n",
              "      <th>3</th>\n",
              "      <td>276729</td>\n",
              "      <td>052165615X</td>\n",
              "      <td>3</td>\n",
              "    </tr>\n",
              "    <tr>\n",
              "      <th>4</th>\n",
              "      <td>276729</td>\n",
              "      <td>0521795028</td>\n",
              "      <td>6</td>\n",
              "    </tr>\n",
              "  </tbody>\n",
              "</table>\n",
              "</div>"
            ],
            "text/plain": [
              "   User-ID        ISBN  Book-Rating\n",
              "0   276725  034545104X            0\n",
              "1   276726  0155061224            5\n",
              "2   276727  0446520802            0\n",
              "3   276729  052165615X            3\n",
              "4   276729  0521795028            6"
            ]
          },
          "execution_count": 6,
          "metadata": {},
          "output_type": "execute_result"
        }
      ],
      "source": [
        "ratings.head()"
      ]
    },
    {
      "cell_type": "code",
      "execution_count": 7,
      "id": "276d0dab",
      "metadata": {
        "colab": {
          "base_uri": "https://localhost:8080/"
        },
        "id": "276d0dab",
        "outputId": "d5ab46e7-129e-4b33-80c9-97b1941e2471"
      },
      "outputs": [
        {
          "name": "stdout",
          "output_type": "stream",
          "text": [
            "(271360, 8)\n",
            "(1149780, 3)\n",
            "(278858, 3)\n"
          ]
        }
      ],
      "source": [
        "print(books.shape)\n",
        "print(ratings.shape)\n",
        "print(users.shape)"
      ]
    },
    {
      "cell_type": "code",
      "execution_count": 8,
      "id": "269b86e1",
      "metadata": {
        "colab": {
          "base_uri": "https://localhost:8080/"
        },
        "id": "269b86e1",
        "outputId": "bec436c3-aa39-4e2b-b4e9-b2900fa9a16f"
      },
      "outputs": [
        {
          "data": {
            "text/plain": [
              "ISBN                   0\n",
              "Book-Title             0\n",
              "Book-Author            2\n",
              "Year-Of-Publication    0\n",
              "Publisher              2\n",
              "Image-URL-S            0\n",
              "Image-URL-M            0\n",
              "Image-URL-L            3\n",
              "dtype: int64"
            ]
          },
          "execution_count": 8,
          "metadata": {},
          "output_type": "execute_result"
        }
      ],
      "source": [
        "books.isnull().sum()"
      ]
    },
    {
      "cell_type": "code",
      "execution_count": 9,
      "id": "35060ccd",
      "metadata": {
        "colab": {
          "base_uri": "https://localhost:8080/"
        },
        "id": "35060ccd",
        "outputId": "1a561626-0f76-4173-fe89-514d4d526478"
      },
      "outputs": [
        {
          "data": {
            "text/plain": [
              "User-ID          0\n",
              "Location         0\n",
              "Age         110762\n",
              "dtype: int64"
            ]
          },
          "execution_count": 9,
          "metadata": {},
          "output_type": "execute_result"
        }
      ],
      "source": [
        "users.isnull().sum()"
      ]
    },
    {
      "cell_type": "code",
      "execution_count": 10,
      "id": "b89899aa",
      "metadata": {
        "colab": {
          "base_uri": "https://localhost:8080/"
        },
        "id": "b89899aa",
        "outputId": "cd4f4fba-c879-46e8-b7f7-a8bea8239f22"
      },
      "outputs": [
        {
          "data": {
            "text/plain": [
              "User-ID        0\n",
              "ISBN           0\n",
              "Book-Rating    0\n",
              "dtype: int64"
            ]
          },
          "execution_count": 10,
          "metadata": {},
          "output_type": "execute_result"
        }
      ],
      "source": [
        "ratings.isnull().sum()"
      ]
    },
    {
      "cell_type": "code",
      "execution_count": 11,
      "id": "16410edc",
      "metadata": {
        "colab": {
          "base_uri": "https://localhost:8080/"
        },
        "id": "16410edc",
        "outputId": "613c668e-5f47-4e7c-efb7-374383e4ba87"
      },
      "outputs": [
        {
          "data": {
            "text/plain": [
              "0"
            ]
          },
          "execution_count": 11,
          "metadata": {},
          "output_type": "execute_result"
        }
      ],
      "source": [
        "books.duplicated().sum()"
      ]
    },
    {
      "cell_type": "code",
      "execution_count": 12,
      "id": "66adac61",
      "metadata": {
        "colab": {
          "base_uri": "https://localhost:8080/"
        },
        "id": "66adac61",
        "outputId": "7489642e-d0d3-4f51-cccc-4d56def2e0cf"
      },
      "outputs": [
        {
          "data": {
            "text/plain": [
              "0"
            ]
          },
          "execution_count": 12,
          "metadata": {},
          "output_type": "execute_result"
        }
      ],
      "source": [
        "ratings.duplicated().sum()"
      ]
    },
    {
      "cell_type": "code",
      "execution_count": 13,
      "id": "3f1b11a5",
      "metadata": {
        "colab": {
          "base_uri": "https://localhost:8080/"
        },
        "id": "3f1b11a5",
        "outputId": "ccbeeae0-6d47-4cfa-9821-5dddccb22af0"
      },
      "outputs": [
        {
          "data": {
            "text/plain": [
              "0"
            ]
          },
          "execution_count": 13,
          "metadata": {},
          "output_type": "execute_result"
        }
      ],
      "source": [
        "users.duplicated().sum()"
      ]
    },
    {
      "cell_type": "markdown",
      "id": "46d4719f",
      "metadata": {
        "id": "46d4719f"
      },
      "source": [
        "## Popularity Based Recommender System"
      ]
    },
    {
      "cell_type": "code",
      "execution_count": 14,
      "id": "cce41232",
      "metadata": {
        "id": "cce41232"
      },
      "outputs": [],
      "source": [
        "ratings_with_name = ratings.merge(books,on='ISBN')"
      ]
    },
    {
      "cell_type": "code",
      "execution_count": 15,
      "id": "af8925a6",
      "metadata": {
        "colab": {
          "base_uri": "https://localhost:8080/",
          "height": 424
        },
        "id": "af8925a6",
        "outputId": "392b58f9-119d-49de-d97a-bbd753847ba4"
      },
      "outputs": [
        {
          "data": {
            "text/html": [
              "<div>\n",
              "<style scoped>\n",
              "    .dataframe tbody tr th:only-of-type {\n",
              "        vertical-align: middle;\n",
              "    }\n",
              "\n",
              "    .dataframe tbody tr th {\n",
              "        vertical-align: top;\n",
              "    }\n",
              "\n",
              "    .dataframe thead th {\n",
              "        text-align: right;\n",
              "    }\n",
              "</style>\n",
              "<table border=\"1\" class=\"dataframe\">\n",
              "  <thead>\n",
              "    <tr style=\"text-align: right;\">\n",
              "      <th></th>\n",
              "      <th>Book-Title</th>\n",
              "      <th>num_ratings</th>\n",
              "    </tr>\n",
              "  </thead>\n",
              "  <tbody>\n",
              "    <tr>\n",
              "      <th>0</th>\n",
              "      <td>A Light in the Storm: The Civil War Diary of ...</td>\n",
              "      <td>4</td>\n",
              "    </tr>\n",
              "    <tr>\n",
              "      <th>1</th>\n",
              "      <td>Always Have Popsicles</td>\n",
              "      <td>1</td>\n",
              "    </tr>\n",
              "    <tr>\n",
              "      <th>2</th>\n",
              "      <td>Apple Magic (The Collector's series)</td>\n",
              "      <td>1</td>\n",
              "    </tr>\n",
              "    <tr>\n",
              "      <th>3</th>\n",
              "      <td>Ask Lily (Young Women of Faith: Lily Series, ...</td>\n",
              "      <td>1</td>\n",
              "    </tr>\n",
              "    <tr>\n",
              "      <th>4</th>\n",
              "      <td>Beyond IBM: Leadership Marketing and Finance ...</td>\n",
              "      <td>1</td>\n",
              "    </tr>\n",
              "    <tr>\n",
              "      <th>...</th>\n",
              "      <td>...</td>\n",
              "      <td>...</td>\n",
              "    </tr>\n",
              "    <tr>\n",
              "      <th>241066</th>\n",
              "      <td>Ã?Â?lpiraten.</td>\n",
              "      <td>2</td>\n",
              "    </tr>\n",
              "    <tr>\n",
              "      <th>241067</th>\n",
              "      <td>Ã?Â?rger mit Produkt X. Roman.</td>\n",
              "      <td>4</td>\n",
              "    </tr>\n",
              "    <tr>\n",
              "      <th>241068</th>\n",
              "      <td>Ã?Â?sterlich leben.</td>\n",
              "      <td>1</td>\n",
              "    </tr>\n",
              "    <tr>\n",
              "      <th>241069</th>\n",
              "      <td>Ã?Â?stlich der Berge.</td>\n",
              "      <td>3</td>\n",
              "    </tr>\n",
              "    <tr>\n",
              "      <th>241070</th>\n",
              "      <td>Ã?Â?thique en toc</td>\n",
              "      <td>2</td>\n",
              "    </tr>\n",
              "  </tbody>\n",
              "</table>\n",
              "<p>241071 rows × 2 columns</p>\n",
              "</div>"
            ],
            "text/plain": [
              "                                               Book-Title  num_ratings\n",
              "0        A Light in the Storm: The Civil War Diary of ...            4\n",
              "1                                   Always Have Popsicles            1\n",
              "2                    Apple Magic (The Collector's series)            1\n",
              "3        Ask Lily (Young Women of Faith: Lily Series, ...            1\n",
              "4        Beyond IBM: Leadership Marketing and Finance ...            1\n",
              "...                                                   ...          ...\n",
              "241066                                      Ã?Â?lpiraten.            2\n",
              "241067                     Ã?Â?rger mit Produkt X. Roman.            4\n",
              "241068                                Ã?Â?sterlich leben.            1\n",
              "241069                              Ã?Â?stlich der Berge.            3\n",
              "241070                                  Ã?Â?thique en toc            2\n",
              "\n",
              "[241071 rows x 2 columns]"
            ]
          },
          "execution_count": 15,
          "metadata": {},
          "output_type": "execute_result"
        }
      ],
      "source": [
        "num_rating_df = ratings_with_name.groupby('Book-Title').count()['Book-Rating'].reset_index()\n",
        "num_rating_df.rename(columns={'Book-Rating':'num_ratings'},inplace=True)\n",
        "num_rating_df"
      ]
    },
    {
      "cell_type": "code",
      "execution_count": 16,
      "id": "db1b0fd4",
      "metadata": {
        "colab": {
          "base_uri": "https://localhost:8080/"
        },
        "id": "db1b0fd4",
        "outputId": "849878d2-c4c0-4f75-8a50-577ec5b7bee2"
      },
      "outputs": [
        {
          "name": "stdout",
          "output_type": "stream",
          "text": [
            "                                               Book-Title  avg_rating\n",
            "0        A Light in the Storm: The Civil War Diary of ...    2.250000\n",
            "1                                   Always Have Popsicles    0.000000\n",
            "2                    Apple Magic (The Collector's series)    0.000000\n",
            "3        Ask Lily (Young Women of Faith: Lily Series, ...    8.000000\n",
            "4        Beyond IBM: Leadership Marketing and Finance ...    0.000000\n",
            "...                                                   ...         ...\n",
            "241066                                      Ã?Â?lpiraten.    0.000000\n",
            "241067                     Ã?Â?rger mit Produkt X. Roman.    5.250000\n",
            "241068                                Ã?Â?sterlich leben.    7.000000\n",
            "241069                              Ã?Â?stlich der Berge.    2.666667\n",
            "241070                                  Ã?Â?thique en toc    4.000000\n",
            "\n",
            "[241071 rows x 2 columns]\n"
          ]
        }
      ],
      "source": [
        "avg_rating_df = ratings_with_name.groupby('Book-Title')['Book-Rating'].mean().reset_index()\n",
        "avg_rating_df.rename(columns={'Book-Rating':'avg_rating'}, inplace=True)\n",
        "print(avg_rating_df)"
      ]
    },
    {
      "cell_type": "code",
      "execution_count": 17,
      "id": "2524096d",
      "metadata": {
        "colab": {
          "base_uri": "https://localhost:8080/",
          "height": 424
        },
        "id": "2524096d",
        "outputId": "fe6289ac-43c1-431d-d61f-3391617b5ec8"
      },
      "outputs": [
        {
          "data": {
            "text/html": [
              "<div>\n",
              "<style scoped>\n",
              "    .dataframe tbody tr th:only-of-type {\n",
              "        vertical-align: middle;\n",
              "    }\n",
              "\n",
              "    .dataframe tbody tr th {\n",
              "        vertical-align: top;\n",
              "    }\n",
              "\n",
              "    .dataframe thead th {\n",
              "        text-align: right;\n",
              "    }\n",
              "</style>\n",
              "<table border=\"1\" class=\"dataframe\">\n",
              "  <thead>\n",
              "    <tr style=\"text-align: right;\">\n",
              "      <th></th>\n",
              "      <th>Book-Title</th>\n",
              "      <th>num_ratings</th>\n",
              "      <th>avg_rating</th>\n",
              "    </tr>\n",
              "  </thead>\n",
              "  <tbody>\n",
              "    <tr>\n",
              "      <th>0</th>\n",
              "      <td>A Light in the Storm: The Civil War Diary of ...</td>\n",
              "      <td>4</td>\n",
              "      <td>2.250000</td>\n",
              "    </tr>\n",
              "    <tr>\n",
              "      <th>1</th>\n",
              "      <td>Always Have Popsicles</td>\n",
              "      <td>1</td>\n",
              "      <td>0.000000</td>\n",
              "    </tr>\n",
              "    <tr>\n",
              "      <th>2</th>\n",
              "      <td>Apple Magic (The Collector's series)</td>\n",
              "      <td>1</td>\n",
              "      <td>0.000000</td>\n",
              "    </tr>\n",
              "    <tr>\n",
              "      <th>3</th>\n",
              "      <td>Ask Lily (Young Women of Faith: Lily Series, ...</td>\n",
              "      <td>1</td>\n",
              "      <td>8.000000</td>\n",
              "    </tr>\n",
              "    <tr>\n",
              "      <th>4</th>\n",
              "      <td>Beyond IBM: Leadership Marketing and Finance ...</td>\n",
              "      <td>1</td>\n",
              "      <td>0.000000</td>\n",
              "    </tr>\n",
              "    <tr>\n",
              "      <th>...</th>\n",
              "      <td>...</td>\n",
              "      <td>...</td>\n",
              "      <td>...</td>\n",
              "    </tr>\n",
              "    <tr>\n",
              "      <th>241066</th>\n",
              "      <td>Ã?Â?lpiraten.</td>\n",
              "      <td>2</td>\n",
              "      <td>0.000000</td>\n",
              "    </tr>\n",
              "    <tr>\n",
              "      <th>241067</th>\n",
              "      <td>Ã?Â?rger mit Produkt X. Roman.</td>\n",
              "      <td>4</td>\n",
              "      <td>5.250000</td>\n",
              "    </tr>\n",
              "    <tr>\n",
              "      <th>241068</th>\n",
              "      <td>Ã?Â?sterlich leben.</td>\n",
              "      <td>1</td>\n",
              "      <td>7.000000</td>\n",
              "    </tr>\n",
              "    <tr>\n",
              "      <th>241069</th>\n",
              "      <td>Ã?Â?stlich der Berge.</td>\n",
              "      <td>3</td>\n",
              "      <td>2.666667</td>\n",
              "    </tr>\n",
              "    <tr>\n",
              "      <th>241070</th>\n",
              "      <td>Ã?Â?thique en toc</td>\n",
              "      <td>2</td>\n",
              "      <td>4.000000</td>\n",
              "    </tr>\n",
              "  </tbody>\n",
              "</table>\n",
              "<p>241071 rows × 3 columns</p>\n",
              "</div>"
            ],
            "text/plain": [
              "                                               Book-Title  num_ratings  \\\n",
              "0        A Light in the Storm: The Civil War Diary of ...            4   \n",
              "1                                   Always Have Popsicles            1   \n",
              "2                    Apple Magic (The Collector's series)            1   \n",
              "3        Ask Lily (Young Women of Faith: Lily Series, ...            1   \n",
              "4        Beyond IBM: Leadership Marketing and Finance ...            1   \n",
              "...                                                   ...          ...   \n",
              "241066                                      Ã?Â?lpiraten.            2   \n",
              "241067                     Ã?Â?rger mit Produkt X. Roman.            4   \n",
              "241068                                Ã?Â?sterlich leben.            1   \n",
              "241069                              Ã?Â?stlich der Berge.            3   \n",
              "241070                                  Ã?Â?thique en toc            2   \n",
              "\n",
              "        avg_rating  \n",
              "0         2.250000  \n",
              "1         0.000000  \n",
              "2         0.000000  \n",
              "3         8.000000  \n",
              "4         0.000000  \n",
              "...            ...  \n",
              "241066    0.000000  \n",
              "241067    5.250000  \n",
              "241068    7.000000  \n",
              "241069    2.666667  \n",
              "241070    4.000000  \n",
              "\n",
              "[241071 rows x 3 columns]"
            ]
          },
          "execution_count": 17,
          "metadata": {},
          "output_type": "execute_result"
        }
      ],
      "source": [
        "popular_df = num_rating_df.merge(avg_rating_df,on='Book-Title')\n",
        "popular_df"
      ]
    },
    {
      "cell_type": "code",
      "execution_count": 18,
      "id": "96aeff99",
      "metadata": {
        "id": "96aeff99"
      },
      "outputs": [],
      "source": [
        "popular_df = popular_df[popular_df['num_ratings']>=250].sort_values('avg_rating',ascending=False).head(50)"
      ]
    },
    {
      "cell_type": "code",
      "execution_count": 19,
      "id": "2aeb6c74",
      "metadata": {
        "id": "2aeb6c74"
      },
      "outputs": [],
      "source": [
        "popular_df = popular_df.merge(books,on='Book-Title').drop_duplicates('Book-Title')[['Book-Title','Book-Author','Image-URL-M','num_ratings','avg_rating']]"
      ]
    },
    {
      "cell_type": "code",
      "execution_count": 20,
      "id": "b94cc12d",
      "metadata": {
        "colab": {
          "base_uri": "https://localhost:8080/",
          "height": 35
        },
        "id": "b94cc12d",
        "outputId": "c8062c85-e87c-400d-ed3f-516934fa6a43",
        "scrolled": true
      },
      "outputs": [
        {
          "data": {
            "text/plain": [
              "'http://images.amazon.com/images/P/0439136350.01.MZZZZZZZ.jpg'"
            ]
          },
          "execution_count": 20,
          "metadata": {},
          "output_type": "execute_result"
        }
      ],
      "source": [
        "popular_df['Image-URL-M'][0]"
      ]
    },
    {
      "cell_type": "code",
      "execution_count": 21,
      "id": "bAOKlkvF1zTA",
      "metadata": {
        "colab": {
          "base_uri": "https://localhost:8080/",
          "height": 1000
        },
        "id": "bAOKlkvF1zTA",
        "outputId": "c24f171a-305d-4e10-a770-9bd1369170b4"
      },
      "outputs": [
        {
          "data": {
            "image/png": "[encoded data removed]",
            "text/plain": [
              "<Figure size 1200x600 with 2 Axes>"
            ]
          },
          "metadata": {},
          "output_type": "display_data"
        },
        {
          "data": {
            "image/png": "[encoded data removed]",
            "text/plain": [
              "<Figure size 1200x600 with 1 Axes>"
            ]
          },
          "metadata": {},
          "output_type": "display_data"
        },
        {
          "name": "stdout",
          "output_type": "stream",
          "text": [
            "Total buku dalam dataset: 241071\n",
            "Total buku yang direkomendasikan: 50\n",
            "Proporsi buku yang direkomendasikan: 0.02%\n"
          ]
        }
      ],
      "source": [
        "import matplotlib.pyplot as plt\n",
        "import seaborn as sns\n",
        "\n",
        "# Evaluasi Distribusi Jumlah Rating dan Rata-Rata Rating dari Buku yang Direkomendasikan\n",
        "plt.figure(figsize=(12, 6))\n",
        "\n",
        "plt.subplot(1, 2, 1)\n",
        "sns.histplot(popular_df['num_ratings'], bins=10, kde=True)\n",
        "plt.title('Distribusi Jumlah Rating dari Buku yang Direkomendasikan')\n",
        "plt.xlabel('Jumlah Rating')\n",
        "plt.ylabel('Frekuensi')\n",
        "\n",
        "plt.subplot(1, 2, 2)\n",
        "sns.histplot(popular_df['avg_rating'], bins=10, kde=True)\n",
        "plt.title('Distribusi Rata-Rata Rating dari Buku yang Direkomendasikan')\n",
        "plt.xlabel('Rata-Rata Rating')\n",
        "plt.ylabel('Frekuensi')\n",
        "\n",
        "plt.tight_layout()\n",
        "plt.show()\n",
        "\n",
        "# Evaluasi Peringkat Pengguna Terhadap Buku yang Direkomendasikan\n",
        "recommended_books_ratings = ratings_with_name[ratings_with_name['Book-Title'].isin(popular_df['Book-Title'])]\n",
        "\n",
        "plt.figure(figsize=(12, 6))\n",
        "sns.histplot(recommended_books_ratings['Book-Rating'], bins=10, kde=True)\n",
        "plt.title('Distribusi Rating Pengguna Terhadap Buku yang Direkomendasikan')\n",
        "plt.xlabel('Rating Pengguna')\n",
        "plt.ylabel('Frekuensi')\n",
        "plt.show()\n",
        "\n",
        "# Proporsi Buku yang Direkomendasikan dalam Dataset Keseluruhan\n",
        "total_books = ratings_with_name['Book-Title'].nunique()\n",
        "recommended_books = popular_df['Book-Title'].nunique()\n",
        "\n",
        "print(f\"Total buku dalam dataset: {total_books}\")\n",
        "print(f\"Total buku yang direkomendasikan: {recommended_books}\")\n",
        "print(f\"Proporsi buku yang direkomendasikan: {recommended_books / total_books:.2%}\")\n"
      ]
    },
    {
      "cell_type": "markdown",
      "id": "bd1b1056",
      "metadata": {
        "id": "bd1b1056"
      },
      "source": [
        "## Sistem Rekomendasi Collaborative Filtering"
      ]
    },
    {
      "cell_type": "code",
      "execution_count": 22,
      "id": "8cadf2cc",
      "metadata": {
        "id": "8cadf2cc"
      },
      "outputs": [],
      "source": [
        "x = ratings_with_name.groupby('User-ID').count()['Book-Rating'] > 250\n",
        "padhe_likhe_users = x[x].index"
      ]
    },
    {
      "cell_type": "code",
      "execution_count": 23,
      "id": "5a7bb823",
      "metadata": {
        "id": "5a7bb823"
      },
      "outputs": [],
      "source": [
        "filtered_rating = ratings_with_name[ratings_with_name['User-ID'].isin(padhe_likhe_users)]"
      ]
    },
    {
      "cell_type": "code",
      "execution_count": 24,
      "id": "9b748d24",
      "metadata": {
        "id": "9b748d24"
      },
      "outputs": [],
      "source": [
        "y = filtered_rating.groupby('Book-Title').count()['Book-Rating']>=50\n",
        "famous_books = y[y].index"
      ]
    },
    {
      "cell_type": "code",
      "execution_count": 25,
      "id": "4b4f5f7f",
      "metadata": {
        "id": "4b4f5f7f"
      },
      "outputs": [],
      "source": [
        "final_ratings = filtered_rating[filtered_rating['Book-Title'].isin(famous_books)]"
      ]
    },
    {
      "cell_type": "code",
      "execution_count": 26,
      "id": "af1c6e92",
      "metadata": {
        "id": "af1c6e92"
      },
      "outputs": [],
      "source": [
        "pt = final_ratings.pivot_table(index='Book-Title',columns='User-ID',values='Book-Rating')"
      ]
    },
    {
      "cell_type": "code",
      "execution_count": 27,
      "id": "d049e58f",
      "metadata": {
        "id": "d049e58f"
      },
      "outputs": [],
      "source": [
        "pt.fillna(0,inplace=True)"
      ]
    },
    {
      "cell_type": "code",
      "execution_count": 28,
      "id": "8f01aaf1",
      "metadata": {
        "colab": {
          "base_uri": "https://localhost:8080/",
          "height": 649
        },
        "id": "8f01aaf1",
        "outputId": "5bb2dc4d-f72a-4535-8cfc-6c0810c4f6fe"
      },
      "outputs": [
        {
          "data": {
            "text/html": [
              "<div>\n",
              "<style scoped>\n",
              "    .dataframe tbody tr th:only-of-type {\n",
              "        vertical-align: middle;\n",
              "    }\n",
              "\n",
              "    .dataframe tbody tr th {\n",
              "        vertical-align: top;\n",
              "    }\n",
              "\n",
              "    .dataframe thead th {\n",
              "        text-align: right;\n",
              "    }\n",
              "</style>\n",
              "<table border=\"1\" class=\"dataframe\">\n",
              "  <thead>\n",
              "    <tr style=\"text-align: right;\">\n",
              "      <th>User-ID</th>\n",
              "      <th>254</th>\n",
              "      <th>2276</th>\n",
              "      <th>2766</th>\n",
              "      <th>3363</th>\n",
              "      <th>4385</th>\n",
              "      <th>6251</th>\n",
              "      <th>6543</th>\n",
              "      <th>6575</th>\n",
              "      <th>7158</th>\n",
              "      <th>7346</th>\n",
              "      <th>...</th>\n",
              "      <th>271705</th>\n",
              "      <th>273979</th>\n",
              "      <th>274004</th>\n",
              "      <th>274061</th>\n",
              "      <th>274301</th>\n",
              "      <th>274308</th>\n",
              "      <th>275970</th>\n",
              "      <th>277427</th>\n",
              "      <th>277639</th>\n",
              "      <th>278418</th>\n",
              "    </tr>\n",
              "    <tr>\n",
              "      <th>Book-Title</th>\n",
              "      <th></th>\n",
              "      <th></th>\n",
              "      <th></th>\n",
              "      <th></th>\n",
              "      <th></th>\n",
              "      <th></th>\n",
              "      <th></th>\n",
              "      <th></th>\n",
              "      <th></th>\n",
              "      <th></th>\n",
              "      <th></th>\n",
              "      <th></th>\n",
              "      <th></th>\n",
              "      <th></th>\n",
              "      <th></th>\n",
              "      <th></th>\n",
              "      <th></th>\n",
              "      <th></th>\n",
              "      <th></th>\n",
              "      <th></th>\n",
              "      <th></th>\n",
              "    </tr>\n",
              "  </thead>\n",
              "  <tbody>\n",
              "    <tr>\n",
              "      <th>1984</th>\n",
              "      <td>9.0</td>\n",
              "      <td>0.0</td>\n",
              "      <td>0.0</td>\n",
              "      <td>0.0</td>\n",
              "      <td>0.0</td>\n",
              "      <td>0.0</td>\n",
              "      <td>0.0</td>\n",
              "      <td>0.0</td>\n",
              "      <td>0.0</td>\n",
              "      <td>8.0</td>\n",
              "      <td>...</td>\n",
              "      <td>10.0</td>\n",
              "      <td>0.0</td>\n",
              "      <td>0.0</td>\n",
              "      <td>0.0</td>\n",
              "      <td>0.0</td>\n",
              "      <td>0.0</td>\n",
              "      <td>0.0</td>\n",
              "      <td>0.0</td>\n",
              "      <td>0.0</td>\n",
              "      <td>0.0</td>\n",
              "    </tr>\n",
              "    <tr>\n",
              "      <th>1st to Die: A Novel</th>\n",
              "      <td>0.0</td>\n",
              "      <td>0.0</td>\n",
              "      <td>0.0</td>\n",
              "      <td>0.0</td>\n",
              "      <td>0.0</td>\n",
              "      <td>0.0</td>\n",
              "      <td>9.0</td>\n",
              "      <td>0.0</td>\n",
              "      <td>0.0</td>\n",
              "      <td>0.0</td>\n",
              "      <td>...</td>\n",
              "      <td>0.0</td>\n",
              "      <td>0.0</td>\n",
              "      <td>0.0</td>\n",
              "      <td>0.0</td>\n",
              "      <td>0.0</td>\n",
              "      <td>0.0</td>\n",
              "      <td>0.0</td>\n",
              "      <td>0.0</td>\n",
              "      <td>0.0</td>\n",
              "      <td>0.0</td>\n",
              "    </tr>\n",
              "    <tr>\n",
              "      <th>2nd Chance</th>\n",
              "      <td>0.0</td>\n",
              "      <td>10.0</td>\n",
              "      <td>0.0</td>\n",
              "      <td>0.0</td>\n",
              "      <td>0.0</td>\n",
              "      <td>0.0</td>\n",
              "      <td>0.0</td>\n",
              "      <td>0.0</td>\n",
              "      <td>0.0</td>\n",
              "      <td>0.0</td>\n",
              "      <td>...</td>\n",
              "      <td>0.0</td>\n",
              "      <td>0.0</td>\n",
              "      <td>0.0</td>\n",
              "      <td>0.0</td>\n",
              "      <td>0.0</td>\n",
              "      <td>0.0</td>\n",
              "      <td>0.0</td>\n",
              "      <td>0.0</td>\n",
              "      <td>0.0</td>\n",
              "      <td>0.0</td>\n",
              "    </tr>\n",
              "    <tr>\n",
              "      <th>4 Blondes</th>\n",
              "      <td>0.0</td>\n",
              "      <td>0.0</td>\n",
              "      <td>0.0</td>\n",
              "      <td>0.0</td>\n",
              "      <td>0.0</td>\n",
              "      <td>0.0</td>\n",
              "      <td>0.0</td>\n",
              "      <td>0.0</td>\n",
              "      <td>0.0</td>\n",
              "      <td>0.0</td>\n",
              "      <td>...</td>\n",
              "      <td>0.0</td>\n",
              "      <td>0.0</td>\n",
              "      <td>0.0</td>\n",
              "      <td>0.0</td>\n",
              "      <td>0.0</td>\n",
              "      <td>0.0</td>\n",
              "      <td>0.0</td>\n",
              "      <td>0.0</td>\n",
              "      <td>0.0</td>\n",
              "      <td>0.0</td>\n",
              "    </tr>\n",
              "    <tr>\n",
              "      <th>A Bend in the Road</th>\n",
              "      <td>0.0</td>\n",
              "      <td>0.0</td>\n",
              "      <td>7.0</td>\n",
              "      <td>0.0</td>\n",
              "      <td>0.0</td>\n",
              "      <td>0.0</td>\n",
              "      <td>0.0</td>\n",
              "      <td>1.0</td>\n",
              "      <td>0.0</td>\n",
              "      <td>0.0</td>\n",
              "      <td>...</td>\n",
              "      <td>0.0</td>\n",
              "      <td>0.0</td>\n",
              "      <td>0.0</td>\n",
              "      <td>0.0</td>\n",
              "      <td>0.0</td>\n",
              "      <td>0.0</td>\n",
              "      <td>0.0</td>\n",
              "      <td>0.0</td>\n",
              "      <td>0.0</td>\n",
              "      <td>0.0</td>\n",
              "    </tr>\n",
              "    <tr>\n",
              "      <th>...</th>\n",
              "      <td>...</td>\n",
              "      <td>...</td>\n",
              "      <td>...</td>\n",
              "      <td>...</td>\n",
              "      <td>...</td>\n",
              "      <td>...</td>\n",
              "      <td>...</td>\n",
              "      <td>...</td>\n",
              "      <td>...</td>\n",
              "      <td>...</td>\n",
              "      <td>...</td>\n",
              "      <td>...</td>\n",
              "      <td>...</td>\n",
              "      <td>...</td>\n",
              "      <td>...</td>\n",
              "      <td>...</td>\n",
              "      <td>...</td>\n",
              "      <td>...</td>\n",
              "      <td>...</td>\n",
              "      <td>...</td>\n",
              "      <td>...</td>\n",
              "    </tr>\n",
              "    <tr>\n",
              "      <th>Wuthering Heights</th>\n",
              "      <td>0.0</td>\n",
              "      <td>0.0</td>\n",
              "      <td>0.0</td>\n",
              "      <td>0.0</td>\n",
              "      <td>0.0</td>\n",
              "      <td>0.0</td>\n",
              "      <td>0.0</td>\n",
              "      <td>0.0</td>\n",
              "      <td>0.0</td>\n",
              "      <td>0.0</td>\n",
              "      <td>...</td>\n",
              "      <td>0.0</td>\n",
              "      <td>0.0</td>\n",
              "      <td>0.0</td>\n",
              "      <td>0.0</td>\n",
              "      <td>0.0</td>\n",
              "      <td>0.0</td>\n",
              "      <td>0.0</td>\n",
              "      <td>0.0</td>\n",
              "      <td>0.0</td>\n",
              "      <td>0.0</td>\n",
              "    </tr>\n",
              "    <tr>\n",
              "      <th>You Belong To Me</th>\n",
              "      <td>0.0</td>\n",
              "      <td>0.0</td>\n",
              "      <td>0.0</td>\n",
              "      <td>0.0</td>\n",
              "      <td>0.0</td>\n",
              "      <td>0.0</td>\n",
              "      <td>0.0</td>\n",
              "      <td>0.0</td>\n",
              "      <td>0.0</td>\n",
              "      <td>0.0</td>\n",
              "      <td>...</td>\n",
              "      <td>0.0</td>\n",
              "      <td>0.0</td>\n",
              "      <td>0.0</td>\n",
              "      <td>0.0</td>\n",
              "      <td>0.0</td>\n",
              "      <td>0.0</td>\n",
              "      <td>0.0</td>\n",
              "      <td>0.0</td>\n",
              "      <td>0.0</td>\n",
              "      <td>0.0</td>\n",
              "    </tr>\n",
              "    <tr>\n",
              "      <th>Zen and the Art of Motorcycle Maintenance: An Inquiry into Values</th>\n",
              "      <td>0.0</td>\n",
              "      <td>0.0</td>\n",
              "      <td>0.0</td>\n",
              "      <td>0.0</td>\n",
              "      <td>0.0</td>\n",
              "      <td>0.0</td>\n",
              "      <td>0.0</td>\n",
              "      <td>0.0</td>\n",
              "      <td>0.0</td>\n",
              "      <td>0.0</td>\n",
              "      <td>...</td>\n",
              "      <td>0.0</td>\n",
              "      <td>0.0</td>\n",
              "      <td>0.0</td>\n",
              "      <td>0.0</td>\n",
              "      <td>0.0</td>\n",
              "      <td>0.0</td>\n",
              "      <td>0.0</td>\n",
              "      <td>0.0</td>\n",
              "      <td>0.0</td>\n",
              "      <td>0.0</td>\n",
              "    </tr>\n",
              "    <tr>\n",
              "      <th>Zoya</th>\n",
              "      <td>0.0</td>\n",
              "      <td>0.0</td>\n",
              "      <td>0.0</td>\n",
              "      <td>0.0</td>\n",
              "      <td>0.0</td>\n",
              "      <td>0.0</td>\n",
              "      <td>0.0</td>\n",
              "      <td>0.0</td>\n",
              "      <td>0.0</td>\n",
              "      <td>0.0</td>\n",
              "      <td>...</td>\n",
              "      <td>0.0</td>\n",
              "      <td>0.0</td>\n",
              "      <td>0.0</td>\n",
              "      <td>0.0</td>\n",
              "      <td>0.0</td>\n",
              "      <td>0.0</td>\n",
              "      <td>0.0</td>\n",
              "      <td>0.0</td>\n",
              "      <td>0.0</td>\n",
              "      <td>0.0</td>\n",
              "    </tr>\n",
              "    <tr>\n",
              "      <th>\\O\\\" Is for Outlaw\"</th>\n",
              "      <td>0.0</td>\n",
              "      <td>0.0</td>\n",
              "      <td>0.0</td>\n",
              "      <td>0.0</td>\n",
              "      <td>0.0</td>\n",
              "      <td>0.0</td>\n",
              "      <td>0.0</td>\n",
              "      <td>0.0</td>\n",
              "      <td>0.0</td>\n",
              "      <td>8.0</td>\n",
              "      <td>...</td>\n",
              "      <td>0.0</td>\n",
              "      <td>0.0</td>\n",
              "      <td>0.0</td>\n",
              "      <td>0.0</td>\n",
              "      <td>8.0</td>\n",
              "      <td>0.0</td>\n",
              "      <td>0.0</td>\n",
              "      <td>0.0</td>\n",
              "      <td>0.0</td>\n",
              "      <td>0.0</td>\n",
              "    </tr>\n",
              "  </tbody>\n",
              "</table>\n",
              "<p>574 rows × 613 columns</p>\n",
              "</div>"
            ],
            "text/plain": [
              "User-ID                                             254     2276    2766    \\\n",
              "Book-Title                                                                   \n",
              "1984                                                   9.0     0.0     0.0   \n",
              "1st to Die: A Novel                                    0.0     0.0     0.0   \n",
              "2nd Chance                                             0.0    10.0     0.0   \n",
              "4 Blondes                                              0.0     0.0     0.0   \n",
              "A Bend in the Road                                     0.0     0.0     7.0   \n",
              "...                                                    ...     ...     ...   \n",
              "Wuthering Heights                                      0.0     0.0     0.0   \n",
              "You Belong To Me                                       0.0     0.0     0.0   \n",
              "Zen and the Art of Motorcycle Maintenance: An I...     0.0     0.0     0.0   \n",
              "Zoya                                                   0.0     0.0     0.0   \n",
              "\\O\\\" Is for Outlaw\"                                    0.0     0.0     0.0   \n",
              "\n",
              "User-ID                                             3363    4385    6251    \\\n",
              "Book-Title                                                                   \n",
              "1984                                                   0.0     0.0     0.0   \n",
              "1st to Die: A Novel                                    0.0     0.0     0.0   \n",
              "2nd Chance                                             0.0     0.0     0.0   \n",
              "4 Blondes                                              0.0     0.0     0.0   \n",
              "A Bend in the Road                                     0.0     0.0     0.0   \n",
              "...                                                    ...     ...     ...   \n",
              "Wuthering Heights                                      0.0     0.0     0.0   \n",
              "You Belong To Me                                       0.0     0.0     0.0   \n",
              "Zen and the Art of Motorcycle Maintenance: An I...     0.0     0.0     0.0   \n",
              "Zoya                                                   0.0     0.0     0.0   \n",
              "\\O\\\" Is for Outlaw\"                                    0.0     0.0     0.0   \n",
              "\n",
              "User-ID                                             6543    6575    7158    \\\n",
              "Book-Title                                                                   \n",
              "1984                                                   0.0     0.0     0.0   \n",
              "1st to Die: A Novel                                    9.0     0.0     0.0   \n",
              "2nd Chance                                             0.0     0.0     0.0   \n",
              "4 Blondes                                              0.0     0.0     0.0   \n",
              "A Bend in the Road                                     0.0     1.0     0.0   \n",
              "...                                                    ...     ...     ...   \n",
              "Wuthering Heights                                      0.0     0.0     0.0   \n",
              "You Belong To Me                                       0.0     0.0     0.0   \n",
              "Zen and the Art of Motorcycle Maintenance: An I...     0.0     0.0     0.0   \n",
              "Zoya                                                   0.0     0.0     0.0   \n",
              "\\O\\\" Is for Outlaw\"                                    0.0     0.0     0.0   \n",
              "\n",
              "User-ID                                             7346    ...  271705  \\\n",
              "Book-Title                                                  ...           \n",
              "1984                                                   8.0  ...    10.0   \n",
              "1st to Die: A Novel                                    0.0  ...     0.0   \n",
              "2nd Chance                                             0.0  ...     0.0   \n",
              "4 Blondes                                              0.0  ...     0.0   \n",
              "A Bend in the Road                                     0.0  ...     0.0   \n",
              "...                                                    ...  ...     ...   \n",
              "Wuthering Heights                                      0.0  ...     0.0   \n",
              "You Belong To Me                                       0.0  ...     0.0   \n",
              "Zen and the Art of Motorcycle Maintenance: An I...     0.0  ...     0.0   \n",
              "Zoya                                                   0.0  ...     0.0   \n",
              "\\O\\\" Is for Outlaw\"                                    8.0  ...     0.0   \n",
              "\n",
              "User-ID                                             273979  274004  274061  \\\n",
              "Book-Title                                                                   \n",
              "1984                                                   0.0     0.0     0.0   \n",
              "1st to Die: A Novel                                    0.0     0.0     0.0   \n",
              "2nd Chance                                             0.0     0.0     0.0   \n",
              "4 Blondes                                              0.0     0.0     0.0   \n",
              "A Bend in the Road                                     0.0     0.0     0.0   \n",
              "...                                                    ...     ...     ...   \n",
              "Wuthering Heights                                      0.0     0.0     0.0   \n",
              "You Belong To Me                                       0.0     0.0     0.0   \n",
              "Zen and the Art of Motorcycle Maintenance: An I...     0.0     0.0     0.0   \n",
              "Zoya                                                   0.0     0.0     0.0   \n",
              "\\O\\\" Is for Outlaw\"                                    0.0     0.0     0.0   \n",
              "\n",
              "User-ID                                             274301  274308  275970  \\\n",
              "Book-Title                                                                   \n",
              "1984                                                   0.0     0.0     0.0   \n",
              "1st to Die: A Novel                                    0.0     0.0     0.0   \n",
              "2nd Chance                                             0.0     0.0     0.0   \n",
              "4 Blondes                                              0.0     0.0     0.0   \n",
              "A Bend in the Road                                     0.0     0.0     0.0   \n",
              "...                                                    ...     ...     ...   \n",
              "Wuthering Heights                                      0.0     0.0     0.0   \n",
              "You Belong To Me                                       0.0     0.0     0.0   \n",
              "Zen and the Art of Motorcycle Maintenance: An I...     0.0     0.0     0.0   \n",
              "Zoya                                                   0.0     0.0     0.0   \n",
              "\\O\\\" Is for Outlaw\"                                    8.0     0.0     0.0   \n",
              "\n",
              "User-ID                                             277427  277639  278418  \n",
              "Book-Title                                                                  \n",
              "1984                                                   0.0     0.0     0.0  \n",
              "1st to Die: A Novel                                    0.0     0.0     0.0  \n",
              "2nd Chance                                             0.0     0.0     0.0  \n",
              "4 Blondes                                              0.0     0.0     0.0  \n",
              "A Bend in the Road                                     0.0     0.0     0.0  \n",
              "...                                                    ...     ...     ...  \n",
              "Wuthering Heights                                      0.0     0.0     0.0  \n",
              "You Belong To Me                                       0.0     0.0     0.0  \n",
              "Zen and the Art of Motorcycle Maintenance: An I...     0.0     0.0     0.0  \n",
              "Zoya                                                   0.0     0.0     0.0  \n",
              "\\O\\\" Is for Outlaw\"                                    0.0     0.0     0.0  \n",
              "\n",
              "[574 rows x 613 columns]"
            ]
          },
          "execution_count": 28,
          "metadata": {},
          "output_type": "execute_result"
        }
      ],
      "source": [
        "pt"
      ]
    },
    {
      "cell_type": "code",
      "execution_count": 29,
      "id": "d92c3841",
      "metadata": {
        "id": "d92c3841"
      },
      "outputs": [],
      "source": [
        "from sklearn.metrics.pairwise import cosine_similarity"
      ]
    },
    {
      "cell_type": "code",
      "execution_count": 30,
      "id": "141cdf48",
      "metadata": {
        "id": "141cdf48"
      },
      "outputs": [],
      "source": [
        "similarity_scores = cosine_similarity(pt)"
      ]
    },
    {
      "cell_type": "code",
      "execution_count": 31,
      "id": "4df281a2",
      "metadata": {
        "colab": {
          "base_uri": "https://localhost:8080/"
        },
        "id": "4df281a2",
        "outputId": "2aedc5dc-dd7f-4e36-972c-3e3c75feec2e"
      },
      "outputs": [
        {
          "data": {
            "text/plain": [
              "(574, 574)"
            ]
          },
          "execution_count": 31,
          "metadata": {},
          "output_type": "execute_result"
        }
      ],
      "source": [
        "similarity_scores.shape"
      ]
    },
    {
      "cell_type": "code",
      "execution_count": 32,
      "id": "a9814230",
      "metadata": {
        "id": "a9814230"
      },
      "outputs": [],
      "source": [
        "def recommend(book_name):\n",
        "    # index fetch\n",
        "    index = np.where(pt.index==book_name)[0][0]\n",
        "    similar_items = sorted(list(enumerate(similarity_scores[index])),key=lambda x:x[1],reverse=True)[1:5]\n",
        "\n",
        "    data = []\n",
        "    for i in similar_items:\n",
        "        item = []\n",
        "        temp_df = books[books['Book-Title'] == pt.index[i[0]]]\n",
        "        item.extend(list(temp_df.drop_duplicates('Book-Title')['Book-Title'].values))\n",
        "        item.extend(list(temp_df.drop_duplicates('Book-Title')['Book-Author'].values))\n",
        "        item.extend(list(temp_df.drop_duplicates('Book-Title')['Image-URL-M'].values))\n",
        "\n",
        "        data.append(item)\n",
        "\n",
        "    return data"
      ]
    },
    {
      "cell_type": "code",
      "execution_count": 33,
      "id": "e87f6224",
      "metadata": {
        "id": "e87f6224"
      },
      "outputs": [],
      "source": [
        "import pickle\n",
        "pickle.dump(popular_df,open('popular.pkl','wb'))"
      ]
    },
    {
      "cell_type": "code",
      "execution_count": 34,
      "id": "91e1cc2d",
      "metadata": {
        "colab": {
          "base_uri": "https://localhost:8080/",
          "height": 843
        },
        "id": "91e1cc2d",
        "outputId": "5f908148-ef39-4b97-a9e8-d785e787f7a6"
      },
      "outputs": [
        {
          "data": {
            "text/html": [
              "<div>\n",
              "<style scoped>\n",
              "    .dataframe tbody tr th:only-of-type {\n",
              "        vertical-align: middle;\n",
              "    }\n",
              "\n",
              "    .dataframe tbody tr th {\n",
              "        vertical-align: top;\n",
              "    }\n",
              "\n",
              "    .dataframe thead th {\n",
              "        text-align: right;\n",
              "    }\n",
              "</style>\n",
              "<table border=\"1\" class=\"dataframe\">\n",
              "  <thead>\n",
              "    <tr style=\"text-align: right;\">\n",
              "      <th></th>\n",
              "      <th>ISBN</th>\n",
              "      <th>Book-Title</th>\n",
              "      <th>Book-Author</th>\n",
              "      <th>Year-Of-Publication</th>\n",
              "      <th>Publisher</th>\n",
              "      <th>Image-URL-S</th>\n",
              "      <th>Image-URL-M</th>\n",
              "      <th>Image-URL-L</th>\n",
              "    </tr>\n",
              "  </thead>\n",
              "  <tbody>\n",
              "    <tr>\n",
              "      <th>0</th>\n",
              "      <td>0195153448</td>\n",
              "      <td>Classical Mythology</td>\n",
              "      <td>Mark P. O. Morford</td>\n",
              "      <td>2002</td>\n",
              "      <td>Oxford University Press</td>\n",
              "      <td>http://images.amazon.com/images/P/0195153448.0...</td>\n",
              "      <td>http://images.amazon.com/images/P/0195153448.0...</td>\n",
              "      <td>http://images.amazon.com/images/P/0195153448.0...</td>\n",
              "    </tr>\n",
              "    <tr>\n",
              "      <th>1</th>\n",
              "      <td>0002005018</td>\n",
              "      <td>Clara Callan</td>\n",
              "      <td>Richard Bruce Wright</td>\n",
              "      <td>2001</td>\n",
              "      <td>HarperFlamingo Canada</td>\n",
              "      <td>http://images.amazon.com/images/P/0002005018.0...</td>\n",
              "      <td>http://images.amazon.com/images/P/0002005018.0...</td>\n",
              "      <td>http://images.amazon.com/images/P/0002005018.0...</td>\n",
              "    </tr>\n",
              "    <tr>\n",
              "      <th>2</th>\n",
              "      <td>0060973129</td>\n",
              "      <td>Decision in Normandy</td>\n",
              "      <td>Carlo D'Este</td>\n",
              "      <td>1991</td>\n",
              "      <td>HarperPerennial</td>\n",
              "      <td>http://images.amazon.com/images/P/0060973129.0...</td>\n",
              "      <td>http://images.amazon.com/images/P/0060973129.0...</td>\n",
              "      <td>http://images.amazon.com/images/P/0060973129.0...</td>\n",
              "    </tr>\n",
              "    <tr>\n",
              "      <th>3</th>\n",
              "      <td>0374157065</td>\n",
              "      <td>Flu: The Story of the Great Influenza Pandemic...</td>\n",
              "      <td>Gina Bari Kolata</td>\n",
              "      <td>1999</td>\n",
              "      <td>Farrar Straus Giroux</td>\n",
              "      <td>http://images.amazon.com/images/P/0374157065.0...</td>\n",
              "      <td>http://images.amazon.com/images/P/0374157065.0...</td>\n",
              "      <td>http://images.amazon.com/images/P/0374157065.0...</td>\n",
              "    </tr>\n",
              "    <tr>\n",
              "      <th>4</th>\n",
              "      <td>0393045218</td>\n",
              "      <td>The Mummies of Urumchi</td>\n",
              "      <td>E. J. W. Barber</td>\n",
              "      <td>1999</td>\n",
              "      <td>W. W. Norton &amp;amp; Company</td>\n",
              "      <td>http://images.amazon.com/images/P/0393045218.0...</td>\n",
              "      <td>http://images.amazon.com/images/P/0393045218.0...</td>\n",
              "      <td>http://images.amazon.com/images/P/0393045218.0...</td>\n",
              "    </tr>\n",
              "    <tr>\n",
              "      <th>...</th>\n",
              "      <td>...</td>\n",
              "      <td>...</td>\n",
              "      <td>...</td>\n",
              "      <td>...</td>\n",
              "      <td>...</td>\n",
              "      <td>...</td>\n",
              "      <td>...</td>\n",
              "      <td>...</td>\n",
              "    </tr>\n",
              "    <tr>\n",
              "      <th>271354</th>\n",
              "      <td>0449906736</td>\n",
              "      <td>Flashpoints: Promise and Peril in a New World</td>\n",
              "      <td>Robin Wright</td>\n",
              "      <td>1993</td>\n",
              "      <td>Ballantine Books</td>\n",
              "      <td>http://images.amazon.com/images/P/0449906736.0...</td>\n",
              "      <td>http://images.amazon.com/images/P/0449906736.0...</td>\n",
              "      <td>http://images.amazon.com/images/P/0449906736.0...</td>\n",
              "    </tr>\n",
              "    <tr>\n",
              "      <th>271356</th>\n",
              "      <td>0525447644</td>\n",
              "      <td>From One to One Hundred</td>\n",
              "      <td>Teri Sloat</td>\n",
              "      <td>1991</td>\n",
              "      <td>Dutton Books</td>\n",
              "      <td>http://images.amazon.com/images/P/0525447644.0...</td>\n",
              "      <td>http://images.amazon.com/images/P/0525447644.0...</td>\n",
              "      <td>http://images.amazon.com/images/P/0525447644.0...</td>\n",
              "    </tr>\n",
              "    <tr>\n",
              "      <th>271357</th>\n",
              "      <td>006008667X</td>\n",
              "      <td>Lily Dale : The True Story of the Town that Ta...</td>\n",
              "      <td>Christine Wicker</td>\n",
              "      <td>2004</td>\n",
              "      <td>HarperSanFrancisco</td>\n",
              "      <td>http://images.amazon.com/images/P/006008667X.0...</td>\n",
              "      <td>http://images.amazon.com/images/P/006008667X.0...</td>\n",
              "      <td>http://images.amazon.com/images/P/006008667X.0...</td>\n",
              "    </tr>\n",
              "    <tr>\n",
              "      <th>271358</th>\n",
              "      <td>0192126040</td>\n",
              "      <td>Republic (World's Classics)</td>\n",
              "      <td>Plato</td>\n",
              "      <td>1996</td>\n",
              "      <td>Oxford University Press</td>\n",
              "      <td>http://images.amazon.com/images/P/0192126040.0...</td>\n",
              "      <td>http://images.amazon.com/images/P/0192126040.0...</td>\n",
              "      <td>http://images.amazon.com/images/P/0192126040.0...</td>\n",
              "    </tr>\n",
              "    <tr>\n",
              "      <th>271359</th>\n",
              "      <td>0767409752</td>\n",
              "      <td>A Guided Tour of Rene Descartes' Meditations o...</td>\n",
              "      <td>Christopher  Biffle</td>\n",
              "      <td>2000</td>\n",
              "      <td>McGraw-Hill Humanities/Social Sciences/Languages</td>\n",
              "      <td>http://images.amazon.com/images/P/0767409752.0...</td>\n",
              "      <td>http://images.amazon.com/images/P/0767409752.0...</td>\n",
              "      <td>http://images.amazon.com/images/P/0767409752.0...</td>\n",
              "    </tr>\n",
              "  </tbody>\n",
              "</table>\n",
              "<p>242135 rows × 8 columns</p>\n",
              "</div>"
            ],
            "text/plain": [
              "              ISBN                                         Book-Title  \\\n",
              "0       0195153448                                Classical Mythology   \n",
              "1       0002005018                                       Clara Callan   \n",
              "2       0060973129                               Decision in Normandy   \n",
              "3       0374157065  Flu: The Story of the Great Influenza Pandemic...   \n",
              "4       0393045218                             The Mummies of Urumchi   \n",
              "...            ...                                                ...   \n",
              "271354  0449906736      Flashpoints: Promise and Peril in a New World   \n",
              "271356  0525447644                            From One to One Hundred   \n",
              "271357  006008667X  Lily Dale : The True Story of the Town that Ta...   \n",
              "271358  0192126040                        Republic (World's Classics)   \n",
              "271359  0767409752  A Guided Tour of Rene Descartes' Meditations o...   \n",
              "\n",
              "                 Book-Author Year-Of-Publication  \\\n",
              "0         Mark P. O. Morford                2002   \n",
              "1       Richard Bruce Wright                2001   \n",
              "2               Carlo D'Este                1991   \n",
              "3           Gina Bari Kolata                1999   \n",
              "4            E. J. W. Barber                1999   \n",
              "...                      ...                 ...   \n",
              "271354          Robin Wright                1993   \n",
              "271356            Teri Sloat                1991   \n",
              "271357      Christine Wicker                2004   \n",
              "271358                 Plato                1996   \n",
              "271359   Christopher  Biffle                2000   \n",
              "\n",
              "                                               Publisher  \\\n",
              "0                                Oxford University Press   \n",
              "1                                  HarperFlamingo Canada   \n",
              "2                                        HarperPerennial   \n",
              "3                                   Farrar Straus Giroux   \n",
              "4                             W. W. Norton &amp; Company   \n",
              "...                                                  ...   \n",
              "271354                                  Ballantine Books   \n",
              "271356                                      Dutton Books   \n",
              "271357                                HarperSanFrancisco   \n",
              "271358                           Oxford University Press   \n",
              "271359  McGraw-Hill Humanities/Social Sciences/Languages   \n",
              "\n",
              "                                              Image-URL-S  \\\n",
              "0       http://images.amazon.com/images/P/0195153448.0...   \n",
              "1       http://images.amazon.com/images/P/0002005018.0...   \n",
              "2       http://images.amazon.com/images/P/0060973129.0...   \n",
              "3       http://images.amazon.com/images/P/0374157065.0...   \n",
              "4       http://images.amazon.com/images/P/0393045218.0...   \n",
              "...                                                   ...   \n",
              "271354  http://images.amazon.com/images/P/0449906736.0...   \n",
              "271356  http://images.amazon.com/images/P/0525447644.0...   \n",
              "271357  http://images.amazon.com/images/P/006008667X.0...   \n",
              "271358  http://images.amazon.com/images/P/0192126040.0...   \n",
              "271359  http://images.amazon.com/images/P/0767409752.0...   \n",
              "\n",
              "                                              Image-URL-M  \\\n",
              "0       http://images.amazon.com/images/P/0195153448.0...   \n",
              "1       http://images.amazon.com/images/P/0002005018.0...   \n",
              "2       http://images.amazon.com/images/P/0060973129.0...   \n",
              "3       http://images.amazon.com/images/P/0374157065.0...   \n",
              "4       http://images.amazon.com/images/P/0393045218.0...   \n",
              "...                                                   ...   \n",
              "271354  http://images.amazon.com/images/P/0449906736.0...   \n",
              "271356  http://images.amazon.com/images/P/0525447644.0...   \n",
              "271357  http://images.amazon.com/images/P/006008667X.0...   \n",
              "271358  http://images.amazon.com/images/P/0192126040.0...   \n",
              "271359  http://images.amazon.com/images/P/0767409752.0...   \n",
              "\n",
              "                                              Image-URL-L  \n",
              "0       http://images.amazon.com/images/P/0195153448.0...  \n",
              "1       http://images.amazon.com/images/P/0002005018.0...  \n",
              "2       http://images.amazon.com/images/P/0060973129.0...  \n",
              "3       http://images.amazon.com/images/P/0374157065.0...  \n",
              "4       http://images.amazon.com/images/P/0393045218.0...  \n",
              "...                                                   ...  \n",
              "271354  http://images.amazon.com/images/P/0449906736.0...  \n",
              "271356  http://images.amazon.com/images/P/0525447644.0...  \n",
              "271357  http://images.amazon.com/images/P/006008667X.0...  \n",
              "271358  http://images.amazon.com/images/P/0192126040.0...  \n",
              "271359  http://images.amazon.com/images/P/0767409752.0...  \n",
              "\n",
              "[242135 rows x 8 columns]"
            ]
          },
          "execution_count": 34,
          "metadata": {},
          "output_type": "execute_result"
        }
      ],
      "source": [
        "books.drop_duplicates('Book-Title')"
      ]
    },
    {
      "cell_type": "code",
      "execution_count": 35,
      "id": "e0b00559",
      "metadata": {
        "id": "e0b00559"
      },
      "outputs": [],
      "source": [
        "pickle.dump(pt,open('pt.pkl','wb'))\n",
        "pickle.dump(books,open('books.pkl','wb'))\n",
        "pickle.dump(similarity_scores,open('similarity_scores.pkl','wb'))"
      ]
    },
    {
      "cell_type": "markdown",
      "id": "RgZ_yuY5C0a1",
      "metadata": {
        "id": "RgZ_yuY5C0a1"
      },
      "source": [
        "Evaluasi  :precision, recall, F1-score, dan Mean Average Precision (MAP) dan  K-Fold Cross Validation."
      ]
    },
    {
      "cell_type": "code",
      "execution_count": 36,
      "id": "Zs--VC49xpMH",
      "metadata": {
        "id": "Zs--VC49xpMH"
      },
      "outputs": [],
      "source": [
        "import numpy as np\n",
        "\n",
        "def predict_ratings(similarity_scores, ratings):\n",
        "    epsilon = 1e-9\n",
        "\n",
        "    weighted_sum = np.dot(similarity_scores, ratings)\n",
        "\n",
        "    sum_of_weights = np.abs(similarity_scores).sum(axis=1, keepdims=True)\n",
        "\n",
        "    predicted_ratings = weighted_sum / (sum_of_weights + epsilon)\n",
        "\n",
        "    return predicted_ratings"
      ]
    },
    {
      "cell_type": "code",
      "execution_count": 37,
      "id": "anKnPu98Dx3G",
      "metadata": {
        "colab": {
          "base_uri": "https://localhost:8080/"
        },
        "id": "anKnPu98Dx3G",
        "outputId": "6c3eca4d-7a94-4703-b5bf-070452ba0fbe"
      },
      "outputs": [
        {
          "name": "stdout",
          "output_type": "stream",
          "text": [
            "Average RMSE (K-Fold CV): 7.4716800898581095\n"
          ]
        }
      ],
      "source": [
        "from sklearn.model_selection import KFold\n",
        "from sklearn.metrics import mean_squared_error\n",
        "import numpy as np\n",
        "\n",
        "num_folds = 5\n",
        "kf = KFold(n_splits=num_folds)\n",
        "\n",
        "rmse_scores = []\n",
        "\n",
        "for train_index, test_index in kf.split(pt):\n",
        "\n",
        "    train_data, test_data = pt.iloc[train_index], pt.iloc[test_index]\n",
        "\n",
        "    similarity_scores_train = cosine_similarity(train_data)\n",
        "\n",
        "    predicted_ratings = predict_ratings(similarity_scores_train, train_data)\n",
        "\n",
        "    test_nonzero_indices = np.where(test_data.values != 0)\n",
        "    test_data_nonzero = test_data.values[test_nonzero_indices]\n",
        "    predicted_ratings_nonzero = predicted_ratings[test_nonzero_indices]\n",
        "\n",
        "    rmse = np.sqrt(mean_squared_error(test_data_nonzero, predicted_ratings_nonzero))\n",
        "\n",
        "    rmse_scores.append(rmse)\n",
        "\n",
        "average_rmse = np.mean(rmse_scores)\n",
        "print(\"Average RMSE (K-Fold CV):\", average_rmse)"
      ]
    },
    {
      "cell_type": "code",
      "execution_count": 38,
      "id": "a6eUq_4DgBkS",
      "metadata": {
        "colab": {
          "base_uri": "https://localhost:8080/"
        },
        "id": "a6eUq_4DgBkS",
        "outputId": "174a3c45-ab26-419c-91b8-5158d24ba872"
      },
      "outputs": [
        {
          "name": "stdout",
          "output_type": "stream",
          "text": [
            "MAE: 0.14000000000000007\n",
            "NDCG: 1.0\n",
            "Hit Rate: 0.6\n",
            "Coverage: 0.25\n",
            "Diversity: 0.38936246467164726\n",
            "Novelty: 3.204935594743131\n"
          ]
        }
      ],
      "source": [
        "import numpy as np\n",
        "from sklearn.metrics import mean_absolute_error\n",
        "\n",
        "# Fungsi untuk menghitung MAE\n",
        "def compute_mae(y_true, y_pred):\n",
        "    return mean_absolute_error(y_true, y_pred)\n",
        "\n",
        "# Contoh penggunaan MAE\n",
        "y_true_ratings = np.array([4, 5, 3, 5, 1])\n",
        "y_pred_ratings = np.array([4.2, 4.8, 3.1, 5.0, 1.2])\n",
        "\n",
        "mae = compute_mae(y_true_ratings, y_pred_ratings)\n",
        "print(f\"MAE: {mae}\")\n",
        "\n",
        "\n",
        "\n",
        "\n",
        "# Fungsi untuk menghitung NDCG\n",
        "def ndcg_at_k(y_true, y_score, k=10):\n",
        "    order = np.argsort(y_score)[::-1]\n",
        "    y_true_sorted = np.take(y_true, order[:k])\n",
        "\n",
        "    dcg = np.sum((2**y_true_sorted - 1) / np.log2(np.arange(1, k + 1) + 1))\n",
        "\n",
        "    # Konversi list menjadi array sebelum melakukan operasi eksponensial\n",
        "    y_true_sorted_ideal = np.array(sorted(y_true, reverse=True)[:k])\n",
        "    idcg = np.sum((2**y_true_sorted_ideal - 1) / np.log2(np.arange(1, k + 1) + 1))\n",
        "\n",
        "    return dcg / idcg if idcg > 0 else 0\n",
        "\n",
        "# Contoh penggunaan NDCG\n",
        "y_true_binary = np.array([1, 0, 1, 1, 0, 1, 0, 0, 1, 0])\n",
        "y_pred_scores = np.array([0.9, 0.1, 0.8, 0.7, 0.2, 0.9, 0.4, 0.3, 0.8, 0.2])\n",
        "\n",
        "ndcg = ndcg_at_k(y_true_binary, y_pred_scores, k=5)\n",
        "print(f\"NDCG: {ndcg}\")\n",
        "\n",
        "\n",
        "\n",
        "# Fungsi untuk menghitung Hit Rate\n",
        "def hit_rate(recommended_items, relevant_items):\n",
        "    hits = sum([1 for item in recommended_items if item in relevant_items])\n",
        "    return hits / len(relevant_items)\n",
        "\n",
        "# Contoh penggunaan Hit Rate\n",
        "recommended_items = ['item1', 'item2', 'item3', 'item4', 'item5']\n",
        "relevant_items = ['item3', 'item4', 'item5', 'item6', 'item7']\n",
        "\n",
        "hit_rate_score = hit_rate(recommended_items, relevant_items)\n",
        "print(f\"Hit Rate: {hit_rate_score}\")\n",
        "\n",
        "\n",
        "\n",
        "# Fungsi untuk menghitung Coverage\n",
        "def coverage(recommended_items, all_items):\n",
        "    unique_recommended_items = set(recommended_items)\n",
        "    return len(unique_recommended_items) / len(all_items)\n",
        "\n",
        "# Contoh penggunaan Coverage\n",
        "all_items = ['item' + str(i) for i in range(1, 21)]\n",
        "recommended_items = ['item1', 'item2', 'item3', 'item4', 'item5']\n",
        "\n",
        "coverage_score = coverage(recommended_items, all_items)\n",
        "print(f\"Coverage: {coverage_score}\")\n",
        "\n",
        "\n",
        "\n",
        "\n",
        "# Fungsi untuk menghitung Diversity\n",
        "def diversity(recommended_items, similarity_matrix):\n",
        "    if len(recommended_items) <= 1:\n",
        "        return 0\n",
        "    diversity_sum = 0\n",
        "    for i in range(len(recommended_items)):\n",
        "        for j in range(i + 1, len(recommended_items)):\n",
        "            diversity_sum += similarity_matrix[recommended_items[i]][recommended_items[j]]\n",
        "    diversity_score = 1 - (diversity_sum / (len(recommended_items) * (len(recommended_items) - 1) / 2))\n",
        "    return diversity_score\n",
        "\n",
        "# Contoh penggunaan Diversity\n",
        "similarity_matrix = np.random.rand(10, 10)\n",
        "recommended_items_indices = [0, 1, 2, 3, 4]\n",
        "\n",
        "diversity_score = diversity(recommended_items_indices, similarity_matrix)\n",
        "print(f\"Diversity: {diversity_score}\")\n",
        "\n",
        "\n",
        "\n",
        "\n",
        "# Fungsi untuk menghitung Novelty\n",
        "def novelty(recommended_items, item_popularity):\n",
        "    novelty_score = 0\n",
        "    for item in recommended_items:\n",
        "        novelty_score += -np.log2(item_popularity[item])\n",
        "    novelty_score /= len(recommended_items)\n",
        "    return novelty_score\n",
        "\n",
        "# Contoh penggunaan Novelty\n",
        "item_popularity = {'item1': 0.1, 'item2': 0.05, 'item3': 0.2, 'item4': 0.15, 'item5': 0.1}\n",
        "recommended_items = ['item1', 'item2', 'item3', 'item4', 'item5']\n",
        "\n",
        "novelty_score = novelty(recommended_items, item_popularity)\n",
        "print(f\"Novelty: {novelty_score}\")\n"
      ]
    },
    {
      "cell_type": "markdown",
      "id": "mLEL9-khgPuf",
      "metadata": {
        "id": "mLEL9-khgPuf"
      },
      "source": [
        "Evaluasi Metrik\n",
        "1. MAE: Menggunakan fungsi mean_absolute_error dari sklearn untuk menghitung MAE.\n",
        "2. NDCG: Menghitung DCG dan IDCG untuk menghitung NDCG.\n",
        "3. Hit Rate: Menghitung proporsi sesi di mana item relevan muncul dalam daftar rekomendasi.\n",
        "4. Coverage: Menghitung proporsi item unik yang direkomendasikan.\n",
        "5. Diversity: Menghitung variasi antara item yang direkomendasikan menggunakan matriks kesamaan.\n",
        "6. Novelty: Menghitung seberapa baru atau tidak dikenal item yang direkomendasikan berdasarkan popularitas item.\n",
        "\n",
        "Penjelasan:\n",
        "1. NDCG: Perbaikan pada konversi list ke array sebelum melakukan operasi eksponensial.\n",
        "2. Precision, Recall, F1-score, MAE, Hit Rate, Coverage, Diversity, Novelty: Contoh implementasi dan penggunaan metrik-metrik evaluasi lainnya yang relevan untuk sistem rekomendasi berbasis cosine similarity."
      ]
    },
    {
      "cell_type": "code",
      "execution_count": 39,
      "id": "6u3qvxRHiS-X",
      "metadata": {
        "colab": {
          "base_uri": "https://localhost:8080/"
        },
        "id": "6u3qvxRHiS-X",
        "outputId": "d7098137-e93a-4ea1-e88f-79387943c41b"
      },
      "outputs": [
        {
          "name": "stdout",
          "output_type": "stream",
          "text": [
            "Precision: 0.6\n",
            "Recall: 0.6\n",
            "F1 Score: 0.6\n",
            "MAP: 0.4777777777777777\n"
          ]
        }
      ],
      "source": [
        "import numpy as np\n",
        "from sklearn.metrics import precision_score, recall_score, f1_score, roc_auc_score, average_precision_score\n",
        "\n",
        "# Fungsi untuk menghitung Precision\n",
        "def precision_at_k(recommended_items, relevant_items, k=10):\n",
        "    recommended_items_k = recommended_items[:k]\n",
        "    relevant_and_recommended = [item for item in recommended_items_k if item in relevant_items]\n",
        "    return len(relevant_and_recommended) / len(recommended_items_k)\n",
        "\n",
        "# Fungsi untuk menghitung Recall\n",
        "def recall_at_k(recommended_items, relevant_items, k=10):\n",
        "    recommended_items_k = recommended_items[:k]\n",
        "    relevant_and_recommended = [item for item in recommended_items_k if item in relevant_items]\n",
        "    return len(relevant_and_recommended) / len(relevant_items)\n",
        "\n",
        "# Contoh penggunaan Precision dan Recall\n",
        "recommended_items = ['item1', 'item2', 'item3', 'item4', 'item5']\n",
        "relevant_items = ['item3', 'item4', 'item5', 'item6', 'item7']\n",
        "\n",
        "precision_at_5 = precision_at_k(recommended_items, relevant_items, k=5)\n",
        "recall_at_5 = recall_at_k(recommended_items, relevant_items, k=5)\n",
        "\n",
        "print(f\"Precision: {precision_at_5}\")\n",
        "print(f\"Recall: {recall_at_5}\")\n",
        "\n",
        "# Fungsi untuk menghitung F1 Score\n",
        "def f1_score_at_k(recommended_items, relevant_items, k=10):\n",
        "    precision = precision_at_k(recommended_items, relevant_items, k)\n",
        "    recall = recall_at_k(recommended_items, relevant_items, k)\n",
        "    if precision + recall == 0:\n",
        "        return 0\n",
        "    return 2 * (precision * recall) / (precision + recall)\n",
        "\n",
        "f1_score_at_5 = f1_score_at_k(recommended_items, relevant_items, k=5)\n",
        "print(f\"F1 Score: {f1_score_at_5}\")\n",
        "\n",
        "# Fungsi untuk menghitung ROC-AUC Score\n",
        "def roc_auc_score_all(y_true, y_score):\n",
        "    return roc_auc_score(y_true, y_score)\n",
        "\n",
        "# Fungsi untuk menghitung Mean Average Precision (MAP)\n",
        "def mean_average_precision(recommended_items, relevant_items):\n",
        "    relevant_indices = [i for i, item in enumerate(recommended_items) if item in relevant_items]\n",
        "    precision_at_i = [precision_at_k(recommended_items, relevant_items, k=i+1) for i in relevant_indices]\n",
        "    if len(precision_at_i) == 0:\n",
        "        return 0\n",
        "    return np.mean(precision_at_i)\n",
        "\n",
        "# Contoh penggunaan MAP\n",
        "recommended_items = ['item1', 'item2', 'item3', 'item4', 'item5']\n",
        "relevant_items = ['item3', 'item4', 'item5', 'item6', 'item7']\n",
        "\n",
        "map_score = mean_average_precision(recommended_items, relevant_items)\n",
        "print(f\"MAP: {map_score}\")\n"
      ]
    },
    {
      "cell_type": "markdown",
      "id": "GLYyOVzIi0e0",
      "metadata": {
        "id": "GLYyOVzIi0e0"
      },
      "source": [
        "1. Precision:\n",
        "Kegunaan: Precision mengukur seberapa banyak item yang direkomendasikan yang benar-benar relevan bagi pengguna. Metrik ini berguna untuk mengukur seberapa akurat sistem dalam merekomendasikan item yang relevan.\n",
        "Relevansi: Sangat relevan jika Anda ingin memastikan bahwa rekomendasi yang diberikan memiliki tingkat ketepatan yang tinggi, seperti dalam sistem rekomendasi e-commerce di mana kesalahan dapat mengakibatkan pengalaman pengguna yang buruk.\n",
        "\n",
        "2. Recall:\n",
        "Kegunaan: Recall mengukur seberapa banyak item yang relevan telah ditemukan oleh sistem rekomendasi. Ini mengukur kecakupan sistem terhadap seluruh item yang relevan yang tersedia.\n",
        "Relevansi: Penting dalam kasus di mana Anda ingin memastikan bahwa sistem mampu menangkap sebagian besar item yang relevan, bahkan jika itu berarti beberapa item tidak relevan turut direkomendasikan, seperti dalam sistem rekomendasi berita di mana meluasnya cakupan topik dapat lebih penting daripada keakuratan rekomendasi.\n",
        "\n",
        "3. F1 Score:\n",
        "Kegunaan: F1 Score adalah ukuran gabungan dari Precision dan Recall. Ini memberikan gambaran keseluruhan tentang keseimbangan antara kedua metrik tersebut.\n",
        "Relevansi: Berguna ketika Anda ingin mempertimbangkan secara bersamaan keakuratan dan cakupan sistem rekomendasi.\n",
        "\n",
        "4. ROC-AUC Score:\n",
        "Kegunaan: ROC-AUC Score mengukur kemampuan sistem untuk membedakan antara item yang relevan dan tidak relevan. Ini terutama berguna dalam kasus di mana ada peringkat relatif dari item yang direkomendasikan.\n",
        "Relevansi: Berguna dalam konteks di mana perbedaan antara relevansi item dan non-relevansi item penting, misalnya dalam sistem rekomendasi pengenalan film di mana memisahkan film yang disukai dengan yang tidak disukai merupakan faktor kunci.\n",
        "\n",
        "5. Mean Average Precision (MAP):\n",
        "Kegunaan: MAP adalah ukuran rata-rata dari precision pada setiap titik di mana item relevan ditemukan dalam daftar rekomendasi.\n",
        "Relevansi: Cocok untuk kasus di mana Anda ingin mempertimbangkan peringkat relatif dari item yang direkomendasikan, serta keakuratan dalam merekomendasikan item yang relevan. Ini sering digunakan dalam situasi di mana peringkat item dalam daftar rekomendasi penting, seperti dalam sistem rekomendasi pencarian di mana item teratas mungkin lebih relevan daripada yang berada di posisi lebih rendah.\n",
        "\n",
        "\n"
      ]
    },
    {
      "cell_type": "markdown",
      "id": "DbdL6U8afeN2",
      "metadata": {
        "id": "DbdL6U8afeN2"
      },
      "source": [
        "METODE EVALUASI MANUAL"
      ]
    },
    {
      "cell_type": "code",
      "execution_count": 40,
      "id": "05d8f6ae",
      "metadata": {},
      "outputs": [
        {
          "data": {
            "text/html": [
              "<div>\n",
              "<style scoped>\n",
              "    .dataframe tbody tr th:only-of-type {\n",
              "        vertical-align: middle;\n",
              "    }\n",
              "\n",
              "    .dataframe tbody tr th {\n",
              "        vertical-align: top;\n",
              "    }\n",
              "\n",
              "    .dataframe thead th {\n",
              "        text-align: right;\n",
              "    }\n",
              "</style>\n",
              "<table border=\"1\" class=\"dataframe\">\n",
              "  <thead>\n",
              "    <tr style=\"text-align: right;\">\n",
              "      <th></th>\n",
              "      <th>Book-Title</th>\n",
              "      <th>Book-Author</th>\n",
              "      <th>Image-URL-M</th>\n",
              "    </tr>\n",
              "  </thead>\n",
              "  <tbody>\n",
              "    <tr>\n",
              "      <th>235</th>\n",
              "      <td>Clifford's Sports Day</td>\n",
              "      <td>Norman Bridwell</td>\n",
              "      <td>http://images.amazon.com/images/P/0590629719.0...</td>\n",
              "    </tr>\n",
              "    <tr>\n",
              "      <th>1654</th>\n",
              "      <td>Johnny Long Legs (Matt Christopher Sports Clas...</td>\n",
              "      <td>Matthew F Christopher</td>\n",
              "      <td>http://images.amazon.com/images/P/0316140651.0...</td>\n",
              "    </tr>\n",
              "    <tr>\n",
              "      <th>1730</th>\n",
              "      <td>Bar sport duemila (I narratori/Feltrinelli)</td>\n",
              "      <td>Stefano Benni</td>\n",
              "      <td>http://images.amazon.com/images/P/8807015293.0...</td>\n",
              "    </tr>\n",
              "    <tr>\n",
              "      <th>1936</th>\n",
              "      <td>The Mad Dog 100 : The Greatest Sports Argument...</td>\n",
              "      <td>Christopher Russo</td>\n",
              "      <td>http://images.amazon.com/images/P/0385508980.0...</td>\n",
              "    </tr>\n",
              "    <tr>\n",
              "      <th>2669</th>\n",
              "      <td>Hiking a Celebration of the Sport and the Worl...</td>\n",
              "      <td>Cindy Ross</td>\n",
              "      <td>http://images.amazon.com/images/P/0679023755.0...</td>\n",
              "    </tr>\n",
              "    <tr>\n",
              "      <th>...</th>\n",
              "      <td>...</td>\n",
              "      <td>...</td>\n",
              "      <td>...</td>\n",
              "    </tr>\n",
              "    <tr>\n",
              "      <th>271135</th>\n",
              "      <td>Sports picture quiz book: With 240 photographs...</td>\n",
              "      <td>John Grafton</td>\n",
              "      <td>http://images.amazon.com/images/P/0486234045.0...</td>\n",
              "    </tr>\n",
              "    <tr>\n",
              "      <th>271141</th>\n",
              "      <td>The Ultimate Book of Sports Lists</td>\n",
              "      <td>Andrew Postman</td>\n",
              "      <td>http://images.amazon.com/images/P/0553285408.0...</td>\n",
              "    </tr>\n",
              "    <tr>\n",
              "      <th>271146</th>\n",
              "      <td>New York Sports Quiz</td>\n",
              "      <td>Brenda Alesii</td>\n",
              "      <td>http://images.amazon.com/images/P/0806512156.0...</td>\n",
              "    </tr>\n",
              "    <tr>\n",
              "      <th>271151</th>\n",
              "      <td>The Sporting News: Baseball Trivia Book</td>\n",
              "      <td>Joe Hoppel</td>\n",
              "      <td>http://images.amazon.com/images/P/089204103X.0...</td>\n",
              "    </tr>\n",
              "    <tr>\n",
              "      <th>271271</th>\n",
              "      <td>Lily's Passport to Paris (Young Women of Faith)</td>\n",
              "      <td>Nancy N. Rue</td>\n",
              "      <td>http://images.amazon.com/images/P/031070555X.0...</td>\n",
              "    </tr>\n",
              "  </tbody>\n",
              "</table>\n",
              "<p>482 rows × 3 columns</p>\n",
              "</div>"
            ],
            "text/plain": [
              "                                               Book-Title  \\\n",
              "235                                 Clifford's Sports Day   \n",
              "1654    Johnny Long Legs (Matt Christopher Sports Clas...   \n",
              "1730          Bar sport duemila (I narratori/Feltrinelli)   \n",
              "1936    The Mad Dog 100 : The Greatest Sports Argument...   \n",
              "2669    Hiking a Celebration of the Sport and the Worl...   \n",
              "...                                                   ...   \n",
              "271135  Sports picture quiz book: With 240 photographs...   \n",
              "271141                  The Ultimate Book of Sports Lists   \n",
              "271146                               New York Sports Quiz   \n",
              "271151            The Sporting News: Baseball Trivia Book   \n",
              "271271    Lily's Passport to Paris (Young Women of Faith)   \n",
              "\n",
              "                  Book-Author  \\\n",
              "235           Norman Bridwell   \n",
              "1654    Matthew F Christopher   \n",
              "1730            Stefano Benni   \n",
              "1936        Christopher Russo   \n",
              "2669               Cindy Ross   \n",
              "...                       ...   \n",
              "271135           John Grafton   \n",
              "271141         Andrew Postman   \n",
              "271146          Brenda Alesii   \n",
              "271151             Joe Hoppel   \n",
              "271271           Nancy N. Rue   \n",
              "\n",
              "                                              Image-URL-M  \n",
              "235     http://images.amazon.com/images/P/0590629719.0...  \n",
              "1654    http://images.amazon.com/images/P/0316140651.0...  \n",
              "1730    http://images.amazon.com/images/P/8807015293.0...  \n",
              "1936    http://images.amazon.com/images/P/0385508980.0...  \n",
              "2669    http://images.amazon.com/images/P/0679023755.0...  \n",
              "...                                                   ...  \n",
              "271135  http://images.amazon.com/images/P/0486234045.0...  \n",
              "271141  http://images.amazon.com/images/P/0553285408.0...  \n",
              "271146  http://images.amazon.com/images/P/0806512156.0...  \n",
              "271151  http://images.amazon.com/images/P/089204103X.0...  \n",
              "271271  http://images.amazon.com/images/P/031070555X.0...  \n",
              "\n",
              "[482 rows x 3 columns]"
            ]
          },
          "execution_count": 40,
          "metadata": {},
          "output_type": "execute_result"
        }
      ],
      "source": [
        "# Mencari buku-buku yang terkait dengan kategori \"sport\"\n",
        "sport_books = books[books['Book-Title'].str.contains('sport', case=False, na=False)]\n",
        "\n",
        "# Menampilkan informasi buku-buku yang ditemukan\n",
        "sport_books[['Book-Title', 'Book-Author', 'Image-URL-M']]\n"
      ]
    },
    {
      "cell_type": "code",
      "execution_count": 41,
      "id": "P0nQFx8GeFuG",
      "metadata": {
        "colab": {
          "base_uri": "https://localhost:8080/",
          "height": 35
        },
        "id": "P0nQFx8GeFuG",
        "outputId": "a46f475b-9c8b-45ff-a64c-b92a4f4740b0"
      },
      "outputs": [
        {
          "data": {
            "text/plain": [
              "'1st to Die: A Novel'"
            ]
          },
          "execution_count": 41,
          "metadata": {},
          "output_type": "execute_result"
        }
      ],
      "source": [
        "pt.index[1]"
      ]
    },
    {
      "cell_type": "code",
      "execution_count": 42,
      "id": "2e1067b7",
      "metadata": {},
      "outputs": [
        {
          "data": {
            "text/plain": [
              "[['Pop Goes the Weasel',\n",
              "  'James Patterson',\n",
              "  'http://images.amazon.com/images/P/0316693286.01.MZZZZZZZ.jpg'],\n",
              " ['Along Came a Spider (Alex Cross Novels)',\n",
              "  'James Patterson',\n",
              "  'http://images.amazon.com/images/P/0446364193.01.MZZZZZZZ.jpg'],\n",
              " ['On the Street Where You Live',\n",
              "  'Mary Higgins Clark',\n",
              "  'http://images.amazon.com/images/P/0671004530.01.MZZZZZZZ.jpg'],\n",
              " ['Roses Are Red (Alex Cross Novels)',\n",
              "  'James Patterson',\n",
              "  'http://images.amazon.com/images/P/0446605484.01.MZZZZZZZ.jpg']]"
            ]
          },
          "execution_count": 42,
          "metadata": {},
          "output_type": "execute_result"
        }
      ],
      "source": [
        "recommend('1st to Die: A Novel')"
      ]
    },
    {
      "cell_type": "code",
      "execution_count": 43,
      "id": "f20d39d6",
      "metadata": {},
      "outputs": [
        {
          "data": {
            "text/plain": [
              "'2nd Chance'"
            ]
          },
          "execution_count": 43,
          "metadata": {},
          "output_type": "execute_result"
        }
      ],
      "source": [
        "pt.index[2]"
      ]
    },
    {
      "cell_type": "code",
      "execution_count": 44,
      "id": "t4vbSIrbnirP",
      "metadata": {
        "colab": {
          "base_uri": "https://localhost:8080/"
        },
        "id": "t4vbSIrbnirP",
        "outputId": "5ea26a96-e0a6-4cd8-ee57-f03e54957865"
      },
      "outputs": [
        {
          "data": {
            "text/plain": [
              "[['The Next Accident',\n",
              "  'LISA GARDNER',\n",
              "  'http://images.amazon.com/images/P/0553578693.01.MZZZZZZZ.jpg'],\n",
              " ['Four Blind Mice',\n",
              "  'James Patterson',\n",
              "  'http://images.amazon.com/images/P/0316693006.01.MZZZZZZZ.jpg'],\n",
              " ['Violets Are Blue',\n",
              "  'James Patterson',\n",
              "  'http://images.amazon.com/images/P/0446611212.01.MZZZZZZZ.jpg'],\n",
              " ['The Blue Nowhere : A Novel',\n",
              "  'Jeffery Deaver',\n",
              "  'http://images.amazon.com/images/P/0671042262.01.MZZZZZZZ.jpg']]"
            ]
          },
          "execution_count": 44,
          "metadata": {},
          "output_type": "execute_result"
        }
      ],
      "source": [
        "recommend('2nd Chance')"
      ]
    },
    {
      "cell_type": "code",
      "execution_count": 45,
      "id": "cEIQXn0MfwKj",
      "metadata": {
        "colab": {
          "base_uri": "https://localhost:8080/",
          "height": 35
        },
        "id": "cEIQXn0MfwKj",
        "outputId": "7f26a150-a6bb-4e44-d105-9204df404991"
      },
      "outputs": [
        {
          "data": {
            "text/plain": [
              "'4 Blondes'"
            ]
          },
          "execution_count": 45,
          "metadata": {},
          "output_type": "execute_result"
        }
      ],
      "source": [
        "pt.index[3]"
      ]
    },
    {
      "cell_type": "code",
      "execution_count": 46,
      "id": "66ab9c53",
      "metadata": {},
      "outputs": [
        {
          "data": {
            "text/plain": [
              "[['The House of the Spirits',\n",
              "  'Isabel Allende',\n",
              "  'http://images.amazon.com/images/P/0553273914.01.MZZZZZZZ.jpg'],\n",
              " ['Pride and Prejudice',\n",
              "  'Jane Austen',\n",
              "  'http://images.amazon.com/images/P/055321215X.01.MZZZZZZZ.jpg'],\n",
              " ['Pleading Guilty',\n",
              "  'Scott Turow',\n",
              "  'http://images.amazon.com/images/P/0446365505.01.MZZZZZZZ.jpg'],\n",
              " ['Bridget Jones: The Edge of Reason',\n",
              "  'Helen Fielding',\n",
              "  'http://images.amazon.com/images/P/0140298479.01.MZZZZZZZ.jpg']]"
            ]
          },
          "execution_count": 46,
          "metadata": {},
          "output_type": "execute_result"
        }
      ],
      "source": [
        "recommend('4 Blondes')"
      ]
    },
    {
      "cell_type": "code",
      "execution_count": 47,
      "id": "toc0ycyTf1Li",
      "metadata": {
        "colab": {
          "base_uri": "https://localhost:8080/",
          "height": 35
        },
        "id": "toc0ycyTf1Li",
        "outputId": "5524971a-7ee7-4945-daa9-759dadb3a732"
      },
      "outputs": [
        {
          "data": {
            "text/plain": [
              "'A Bend in the Road'"
            ]
          },
          "execution_count": 47,
          "metadata": {},
          "output_type": "execute_result"
        }
      ],
      "source": [
        "pt.index[4]"
      ]
    },
    {
      "cell_type": "code",
      "execution_count": 48,
      "id": "d2fd5986",
      "metadata": {},
      "outputs": [
        {
          "data": {
            "text/plain": [
              "[['A Walk to Remember',\n",
              "  'Nicholas Sparks',\n",
              "  'http://images.amazon.com/images/P/0446608955.01.MZZZZZZZ.jpg'],\n",
              " ['The Last Time They Met : A Novel',\n",
              "  'Anita Shreve',\n",
              "  'http://images.amazon.com/images/P/0316781266.01.MZZZZZZZ.jpg'],\n",
              " ['Sea Glass: A Novel',\n",
              "  'Anita Shreve',\n",
              "  'http://images.amazon.com/images/P/0316089699.01.MZZZZZZZ.jpg'],\n",
              " ['Angels',\n",
              "  'Marian Keyes',\n",
              "  'http://images.amazon.com/images/P/0060008024.01.MZZZZZZZ.jpg']]"
            ]
          },
          "execution_count": 48,
          "metadata": {},
          "output_type": "execute_result"
        }
      ],
      "source": [
        "recommend('A Bend in the Road')"
      ]
    },
    {
      "cell_type": "code",
      "execution_count": 49,
      "id": "JtarSlXMdIwE",
      "metadata": {
        "colab": {
          "base_uri": "https://localhost:8080/",
          "height": 35
        },
        "id": "JtarSlXMdIwE",
        "outputId": "bddbf25f-aba5-476f-8579-608d4c9002f7"
      },
      "outputs": [
        {
          "data": {
            "text/plain": [
              "'A Man in Full'"
            ]
          },
          "execution_count": 49,
          "metadata": {},
          "output_type": "execute_result"
        }
      ],
      "source": [
        "pt.index[11]"
      ]
    },
    {
      "cell_type": "code",
      "execution_count": 50,
      "id": "b42fbd95",
      "metadata": {},
      "outputs": [
        {
          "data": {
            "text/plain": [
              "[['Absolute Power',\n",
              "  'David Baldacci',\n",
              "  'http://images.amazon.com/images/P/0446519960.01.MZZZZZZZ.jpg'],\n",
              " ['Plum Island',\n",
              "  'Nelson DeMille',\n",
              "  'http://images.amazon.com/images/P/0446605409.01.MZZZZZZZ.jpg'],\n",
              " ['Four Blind Mice',\n",
              "  'James Patterson',\n",
              "  'http://images.amazon.com/images/P/0316693006.01.MZZZZZZZ.jpg'],\n",
              " ['Sick Puppy',\n",
              "  'Carl Hiaasen',\n",
              "  'http://images.amazon.com/images/P/0446604666.01.MZZZZZZZ.jpg']]"
            ]
          },
          "execution_count": 50,
          "metadata": {},
          "output_type": "execute_result"
        }
      ],
      "source": [
        "recommend('A Man in Full')"
      ]
    },
    {
      "cell_type": "code",
      "execution_count": 51,
      "id": "c_2JteJlmYWP",
      "metadata": {
        "colab": {
          "base_uri": "https://localhost:8080/",
          "height": 35
        },
        "id": "c_2JteJlmYWP",
        "outputId": "415761ba-605f-4291-80ee-e92f8c72fa51"
      },
      "outputs": [
        {
          "data": {
            "text/plain": [
              "'A Walk to Remember'"
            ]
          },
          "execution_count": 51,
          "metadata": {},
          "output_type": "execute_result"
        }
      ],
      "source": [
        "pt.index[20]"
      ]
    },
    {
      "cell_type": "code",
      "execution_count": 52,
      "id": "41af0a20",
      "metadata": {},
      "outputs": [
        {
          "data": {
            "text/plain": [
              "[['The Rescue',\n",
              "  'Nicholas Sparks',\n",
              "  'http://images.amazon.com/images/P/0446610399.01.MZZZZZZZ.jpg'],\n",
              " ['Nights in Rodanthe',\n",
              "  'Nicholas Sparks',\n",
              "  'http://images.amazon.com/images/P/0446531332.01.MZZZZZZZ.jpg'],\n",
              " ['Granny Dan',\n",
              "  'DANIELLE STEEL',\n",
              "  'http://images.amazon.com/images/P/0440224829.01.MZZZZZZZ.jpg'],\n",
              " ['The Notebook',\n",
              "  'Nicholas Sparks',\n",
              "  'http://images.amazon.com/images/P/0446605239.01.MZZZZZZZ.jpg']]"
            ]
          },
          "execution_count": 52,
          "metadata": {},
          "output_type": "execute_result"
        }
      ],
      "source": [
        "recommend('A Walk to Remember')"
      ]
    },
    {
      "cell_type": "code",
      "execution_count": 53,
      "id": "IkcSi6bhcj7L",
      "metadata": {
        "colab": {
          "base_uri": "https://localhost:8080/",
          "height": 35
        },
        "id": "IkcSi6bhcj7L",
        "outputId": "9f5915d7-628c-49fa-99b4-f9a1ccf20334"
      },
      "outputs": [
        {
          "data": {
            "text/plain": [
              "'All That Remains (Kay Scarpetta Mysteries (Paperback))'"
            ]
          },
          "execution_count": 53,
          "metadata": {},
          "output_type": "execute_result"
        }
      ],
      "source": [
        "pt.index[30]"
      ]
    },
    {
      "cell_type": "code",
      "execution_count": 54,
      "id": "23a07dd4",
      "metadata": {},
      "outputs": [
        {
          "data": {
            "text/plain": [
              "[[\"From Potter's Field\",\n",
              "  'Patricia Daniels Cornwell',\n",
              "  'http://images.amazon.com/images/P/0425154092.01.MZZZZZZZ.jpg'],\n",
              " ['Cruel &amp; Unusual (Kay Scarpetta Mysteries (Paperback))',\n",
              "  'Patricia D. Cornwell',\n",
              "  'http://images.amazon.com/images/P/0380718340.01.MZZZZZZZ.jpg'],\n",
              " ['Body of Evidence (Kay Scarpetta Mysteries (Paperback))',\n",
              "  'Patricia D. Cornwell',\n",
              "  'http://images.amazon.com/images/P/0380717018.01.MZZZZZZZ.jpg'],\n",
              " ['The Body Farm',\n",
              "  'Patricia Daniels Cornwell',\n",
              "  'http://images.amazon.com/images/P/0425147622.01.MZZZZZZZ.jpg']]"
            ]
          },
          "execution_count": 54,
          "metadata": {},
          "output_type": "execute_result"
        }
      ],
      "source": [
        "recommend('All That Remains (Kay Scarpetta Mysteries (Paperback))')"
      ]
    },
    {
      "cell_type": "code",
      "execution_count": 55,
      "id": "hgyEGGUxmwP3",
      "metadata": {
        "colab": {
          "base_uri": "https://localhost:8080/",
          "height": 35
        },
        "id": "hgyEGGUxmwP3",
        "outputId": "ce9bd729-646e-4c30-ace6-76af9136b65b"
      },
      "outputs": [
        {
          "data": {
            "text/plain": [
              "'Anne Frank: The Diary of a Young Girl'"
            ]
          },
          "execution_count": 55,
          "metadata": {},
          "output_type": "execute_result"
        }
      ],
      "source": [
        "pt.index[40]"
      ]
    },
    {
      "cell_type": "code",
      "execution_count": 56,
      "id": "b3c8df9a",
      "metadata": {},
      "outputs": [
        {
          "data": {
            "text/plain": [
              "[['Scarlett : The Sequel to Margaret Mitchell\\'s \\\\Gone With the Wind\\\\\"\"',\n",
              "  'Alexandra Ripley',\n",
              "  'http://images.amazon.com/images/P/0446363251.01.MZZZZZZZ.jpg'],\n",
              " ['How Stella Got Her Groove Back',\n",
              "  'Terry McMillan',\n",
              "  'http://images.amazon.com/images/P/0451197410.01.MZZZZZZZ.jpg'],\n",
              " ['The Hours: A Novel',\n",
              "  'Michael Cunningham',\n",
              "  'http://images.amazon.com/images/P/0312305060.01.MZZZZZZZ.jpg'],\n",
              " ['The Secret Garden',\n",
              "  'Frances Hodgson Burnett',\n",
              "  'http://images.amazon.com/images/P/0812505018.01.MZZZZZZZ.jpg']]"
            ]
          },
          "execution_count": 56,
          "metadata": {},
          "output_type": "execute_result"
        }
      ],
      "source": [
        "recommend('Anne Frank: The Diary of a Young Girl')"
      ]
    },
    {
      "cell_type": "code",
      "execution_count": 57,
      "id": "a2Kt6y9scDQH",
      "metadata": {
        "colab": {
          "base_uri": "https://localhost:8080/",
          "height": 35
        },
        "id": "a2Kt6y9scDQH",
        "outputId": "98f03ccc-2f04-4136-ea8c-6845931f8607"
      },
      "outputs": [
        {
          "data": {
            "text/plain": [
              "'Ashes to Ashes'"
            ]
          },
          "execution_count": 57,
          "metadata": {},
          "output_type": "execute_result"
        }
      ],
      "source": [
        "pt.index[45]"
      ]
    },
    {
      "cell_type": "code",
      "execution_count": 58,
      "id": "af89ca07",
      "metadata": {},
      "outputs": [
        {
          "data": {
            "text/plain": [
              "[['A Thin Dark Line (Mysteries &amp; Horror)',\n",
              "  'TAMI HOAG',\n",
              "  'http://images.amazon.com/images/P/0553571885.01.MZZZZZZZ.jpg'],\n",
              " ['The Search',\n",
              "  'Iris Johansen',\n",
              "  'http://images.amazon.com/images/P/0553800914.01.MZZZZZZZ.jpg'],\n",
              " ['The Bachelor (Warner Books Contemporary Romance)',\n",
              "  'Carly Phillips',\n",
              "  'http://images.amazon.com/images/P/0446610542.01.MZZZZZZZ.jpg'],\n",
              " ['Guilty as Sin',\n",
              "  'TAMI HOAG',\n",
              "  'http://images.amazon.com/images/P/0553564528.01.MZZZZZZZ.jpg']]"
            ]
          },
          "execution_count": 58,
          "metadata": {},
          "output_type": "execute_result"
        }
      ],
      "source": [
        "recommend('Ashes to Ashes')"
      ]
    },
    {
      "cell_type": "code",
      "execution_count": 59,
      "id": "0339af2f",
      "metadata": {},
      "outputs": [
        {
          "data": {
            "text/plain": [
              "'Balzac and the Little Chinese Seamstress : A Novel'"
            ]
          },
          "execution_count": 59,
          "metadata": {},
          "output_type": "execute_result"
        }
      ],
      "source": [
        "pt.index[50]"
      ]
    },
    {
      "cell_type": "code",
      "execution_count": 60,
      "id": "YCeGlJMgcJvE",
      "metadata": {
        "colab": {
          "base_uri": "https://localhost:8080/"
        },
        "id": "YCeGlJMgcJvE",
        "outputId": "9e9a334a-374a-4bf8-df39-92e5d161197b"
      },
      "outputs": [
        {
          "data": {
            "text/plain": [
              "[['Tears of the Giraffe (No.1 Ladies Detective Agency)',\n",
              "  'Alexander McCall Smith',\n",
              "  'http://images.amazon.com/images/P/1400031354.01.MZZZZZZZ.jpg'],\n",
              " ['Digital Fortress : A Thriller',\n",
              "  'Dan Brown',\n",
              "  'http://images.amazon.com/images/P/0312995423.01.MZZZZZZZ.jpg'],\n",
              " ['Secret History',\n",
              "  'DONNA TARTT',\n",
              "  'http://images.amazon.com/images/P/0804111359.01.MZZZZZZZ.jpg'],\n",
              " ['Girl in Hyacinth Blue',\n",
              "  'Susan Vreeland',\n",
              "  'http://images.amazon.com/images/P/1565115430.01.MZZZZZZZ.jpg']]"
            ]
          },
          "execution_count": 60,
          "metadata": {},
          "output_type": "execute_result"
        }
      ],
      "source": [
        "recommend('Balzac and the Little Chinese Seamstress : A Novel')"
      ]
    }
  ],
  "metadata": {
    "accelerator": "GPU",
    "colab": {
      "gpuType": "T4",
      "provenance": []
    },
    "kernelspec": {
      "display_name": "Python 3",
      "name": "python3"
    },
    "language_info": {
      "codemirror_mode": {
        "name": "ipython",
        "version": 3
      },
      "file_extension": ".py",
      "mimetype": "text/x-python",
      "name": "python",
      "nbconvert_exporter": "python",
      "pygments_lexer": "ipython3",
      "version": "3.11.4"
    }
  },
  "nbformat": 4,
  "nbformat_minor": 5
}
